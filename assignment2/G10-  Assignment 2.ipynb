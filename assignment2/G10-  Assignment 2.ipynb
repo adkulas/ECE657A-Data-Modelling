{
 "cells": [
  {
   "cell_type": "code",
   "execution_count": 11,
   "metadata": {},
   "outputs": [],
   "source": [
    "import pandas as pd\n",
    "import seaborn as sns\n",
    "import itertools\n",
    "import matplotlib.pyplot as plt\n",
    "import matplotlib.gridspec as gridspec\n",
    "from scipy import stats\n",
    "import numpy as np\n",
    "from sklearn.preprocessing import StandardScaler\n",
    "from sklearn import preprocessing\n",
    "from sklearn import neighbors, linear_model\n",
    "from sklearn.model_selection import train_test_split,GridSearchCV,cross_val_score\n",
    "from sklearn.tree import DecisionTreeClassifier\n",
    "from sklearn.neighbors import KNeighborsClassifier\n",
    "from sklearn.model_selection import KFold\n",
    "from sklearn.ensemble import RandomForestClassifier\n",
    "from sklearn.neural_network import MLPClassifier\n",
    "from sklearn.metrics import classification_report,confusion_matrix, accuracy_score, roc_curve, auc\n",
    "from sklearn.svm import SVC\n",
    "import pydot\n",
    "\n",
    "from mlxtend.plotting import plot_learning_curves\n",
    "from mlxtend.plotting import plot_decision_regions\n",
    "%matplotlib inline\n",
    "\n",
    "from IPython.display import display, HTML\n",
    "pd.options.display.max_rows = None\n",
    "pd.options.display.max_columns = None"
   ]
  },
  {
   "cell_type": "markdown",
   "metadata": {},
   "source": [
    "# Question I: Revisiting HW4 Bank Classi\f",
    "cation with New Tools (for dataset A) "
   ]
  },
  {
   "cell_type": "markdown",
   "metadata": {},
   "source": [
    "# I. Loading the dataset and performing data preprocessing\n",
    "\n",
    "> Load a simple dataset and perform some basic data preprocessing to fill out ”unknowns”,\n",
    "outliers or other invalid data. Explain what preprocessing was performed and why. Also,\n",
    "change categorical data into numerical features using pandas.get dummies [5]."
   ]
  },
  {
   "cell_type": "code",
   "execution_count": null,
   "metadata": {},
   "outputs": [],
   "source": [
    "bank_addidtional_full = \"bank-additional.csv\"\n",
    "\n",
    "data = pd.read_csv(bank_addidtional_full, sep = ';', na_values=[\"unknown\"])\n",
    "df = pd.DataFrame(data)\n",
    "df.head(10)"
   ]
  },
  {
   "cell_type": "markdown",
   "metadata": {},
   "source": [
    "### We first check for missing values in the dataset. There was 1230 entries as unknown in the catogerical features that were replaced with NaN."
   ]
  },
  {
   "cell_type": "code",
   "execution_count": null,
   "metadata": {},
   "outputs": [],
   "source": [
    "print(df.isnull().sum().sum())\n",
    "print(df.shape)\n",
    "df.info()"
   ]
  },
  {
   "cell_type": "markdown",
   "metadata": {},
   "source": [
    "# NaN values were replaced by the mode of the column"
   ]
  },
  {
   "cell_type": "code",
   "execution_count": null,
   "metadata": {},
   "outputs": [],
   "source": [
    "df = df.fillna(df.mode().iloc[0])"
   ]
  },
  {
   "cell_type": "code",
   "execution_count": null,
   "metadata": {},
   "outputs": [],
   "source": [
    "df.head(10)"
   ]
  },
  {
   "cell_type": "markdown",
   "metadata": {},
   "source": [
    "### Then we convert all the catogrical columns to numerical columns. Also, dropping the duration column since is a predictive variable according to UCI website and should be dropped if the purpose is to build a realistic model"
   ]
  },
  {
   "cell_type": "code",
   "execution_count": null,
   "metadata": {},
   "outputs": [],
   "source": [
    "print(df.shape)\n",
    "df._get_numeric_data().head()\n",
    "df['y'] = df['y'].map({'yes': 1, 'no': 0})\n",
    "df.drop(['duration'], axis=1, inplace=True)\n",
    "df = pd.get_dummies(df,drop_first=True)\n",
    "display(df.head(5))"
   ]
  },
  {
   "cell_type": "code",
   "execution_count": null,
   "metadata": {},
   "outputs": [],
   "source": [
    "df.shape"
   ]
  },
  {
   "cell_type": "code",
   "execution_count": null,
   "metadata": {},
   "outputs": [],
   "source": [
    "cols = list(df.columns.values) #Make a list of all of the columns in the df\n",
    "cols.pop(cols.index('y')) #Remove y from list\n",
    "df = df[cols + ['y']] #Create new dataframe with columns in the order you want\n",
    "display(df.head(5))"
   ]
  },
  {
   "cell_type": "markdown",
   "metadata": {},
   "source": [
    "### According to UCI dataset description, the pdays columns (which represents the number of days passed by after the client was last contacted from a previous campaign) has some 999 values which means that client was not previously contacted. We replaced these 999 values with 0 since samples with 999 entries would be considered as an outliers when it comes to data cleaning. There was found to be 3,959 samples in the pdays column that had to be replaced with 0 instead of 999\n",
    "\n"
   ]
  },
  {
   "cell_type": "code",
   "execution_count": null,
   "metadata": {},
   "outputs": [],
   "source": [
    "sns.boxplot(x=df['pdays'])\n",
    "df['pdays'].value_counts()\n",
    "# data['pdays'].isna().sum().sum()"
   ]
  },
  {
   "cell_type": "code",
   "execution_count": null,
   "metadata": {},
   "outputs": [],
   "source": [
    "# df.pdays = df.pdays.replace({999: np.nan })\n",
    "# display(df.pdays.describe())\n",
    "# sns.boxplot(x=df['pdays'])"
   ]
  },
  {
   "cell_type": "code",
   "execution_count": null,
   "metadata": {},
   "outputs": [],
   "source": [
    "# df.pdays = df.pdays.fillna(df.pdays.mean() + df.pdays.std()*6)\n",
    "# sns.boxplot(x=df['pdays'])"
   ]
  },
  {
   "cell_type": "markdown",
   "metadata": {},
   "source": [
    "### Now detecting the outliers and keeping samples that are only within 3 standard deviations"
   ]
  },
  {
   "cell_type": "code",
   "execution_count": null,
   "metadata": {},
   "outputs": [],
   "source": [
    "# df = df[(np.abs(stats.zscore(df)) < 3).all(axis=1)]\n",
    "# keep only the ones that are within +3 to -3 standard deviations in the column 'Data'."
   ]
  },
  {
   "cell_type": "code",
   "execution_count": null,
   "metadata": {},
   "outputs": [],
   "source": [
    "print(df.shape)\n",
    "df.head()"
   ]
  },
  {
   "cell_type": "code",
   "execution_count": null,
   "metadata": {},
   "outputs": [],
   "source": [
    "df['y'].value_counts()"
   ]
  },
  {
   "cell_type": "code",
   "execution_count": null,
   "metadata": {},
   "outputs": [],
   "source": [
    "df.info()"
   ]
  },
  {
   "cell_type": "code",
   "execution_count": null,
   "metadata": {},
   "outputs": [],
   "source": [
    "df.head(10)"
   ]
  },
  {
   "cell_type": "code",
   "execution_count": null,
   "metadata": {},
   "outputs": [],
   "source": []
  },
  {
   "cell_type": "markdown",
   "metadata": {},
   "source": [
    "# II. Dividing data into training and testing"
   ]
  },
  {
   "cell_type": "markdown",
   "metadata": {},
   "source": [
    "Splitting the data into train and test data. The test data size chosen to be 30%."
   ]
  },
  {
   "cell_type": "code",
   "execution_count": null,
   "metadata": {},
   "outputs": [],
   "source": [
    "X = df.drop('y',axis=1)\n",
    "y = df['y']\n",
    "X_train, X_test, y_train, y_test = train_test_split(X,y, test_size=0.30,random_state=101)"
   ]
  },
  {
   "cell_type": "code",
   "execution_count": null,
   "metadata": {},
   "outputs": [],
   "source": [
    "X_test.head()"
   ]
  },
  {
   "cell_type": "markdown",
   "metadata": {},
   "source": [
    "# III. Applying classification: "
   ]
  },
  {
   "cell_type": "markdown",
   "metadata": {},
   "source": [
    "# a) Decision Tree"
   ]
  },
  {
   "cell_type": "markdown",
   "metadata": {},
   "source": [
    "## First, the classifier was instantiated with the default parameters and then was tuned later for comparison"
   ]
  },
  {
   "cell_type": "code",
   "execution_count": null,
   "metadata": {},
   "outputs": [],
   "source": [
    "dtree = DecisionTreeClassifier(random_state=101)\n",
    "dtree.fit(X_train,y_train)"
   ]
  },
  {
   "cell_type": "markdown",
   "metadata": {},
   "source": [
    "## Predicting and evaluating the model"
   ]
  },
  {
   "cell_type": "code",
   "execution_count": null,
   "metadata": {},
   "outputs": [],
   "source": [
    "predictions = dtree.predict(X_test)\n",
    "print(confusion_matrix(y_test,predictions))\n",
    "print('\\n')\n",
    "print(classification_report(y_test,predictions))"
   ]
  },
  {
   "cell_type": "markdown",
   "metadata": {},
   "source": [
    "## ROC is plotted below to check for overfitting cases with depth of the tree"
   ]
  },
  {
   "cell_type": "code",
   "execution_count": null,
   "metadata": {},
   "outputs": [],
   "source": [
    "max_depths = np.linspace(1, 32, 32, endpoint=True)\n",
    "train_results = []\n",
    "test_results = []\n",
    "\n",
    "for max_depth in max_depths:\n",
    "   dt = DecisionTreeClassifier(max_depth=max_depth)\n",
    "   dt.fit(X_train, y_train)\n",
    "   train_pred = dt.predict(X_train)\n",
    "   false_positive_rate, true_positive_rate, thresholds = roc_curve(y_train, train_pred)\n",
    "   roc_auc = auc(false_positive_rate, true_positive_rate)\n",
    "   # Add auc score to previous train results\n",
    "   train_results.append(roc_auc)\n",
    "   y_pred = dt.predict(X_test)\n",
    "   false_positive_rate, true_positive_rate, thresholds = roc_curve(y_test, y_pred)\n",
    "   roc_auc = auc(false_positive_rate, true_positive_rate)\n",
    "   # Add auc score to previous test results\n",
    "   test_results.append(roc_auc)\n",
    "    \n",
    "from matplotlib.legend_handler import HandlerLine2D\n",
    "line1, = plt.plot(max_depths, train_results, 'b', label=\"Train AUC\")\n",
    "line2, = plt.plot(max_depths, test_results, 'r', label=\"Test AUC\")\n",
    "plt.legend(handler_map={line1: HandlerLine2D(numpoints=2)})\n",
    "plt.ylabel('AUC score')\n",
    "plt.xlabel('Tree depth')\n",
    "plt.show()\n",
    "#Source: https://medium.com/all-things-ai/in-depth-parameter-tuning-for-random-forest-d67bb7e920d"
   ]
  },
  {
   "cell_type": "markdown",
   "metadata": {},
   "source": [
    "Based on the graph above, we see that when we have a high tree depth we get an overfitting case where the model can predicts the train data perfectly (high area under curve), however, the models fails to generalize and predict new data (test data)"
   ]
  },
  {
   "cell_type": "code",
   "execution_count": null,
   "metadata": {},
   "outputs": [],
   "source": [
    "clf_gini = DecisionTreeClassifier(criterion = \"gini\", random_state = 100, max_depth=3, min_samples_leaf=5)"
   ]
  },
  {
   "cell_type": "code",
   "execution_count": null,
   "metadata": {},
   "outputs": [],
   "source": [
    "dt_clf = clf_gini.fit(X_train, y_train)"
   ]
  },
  {
   "cell_type": "markdown",
   "metadata": {},
   "source": [
    "\n"
   ]
  },
  {
   "cell_type": "code",
   "execution_count": null,
   "metadata": {},
   "outputs": [],
   "source": [
    "y_pred_dt = dt_clf.predict(X_test)"
   ]
  },
  {
   "cell_type": "code",
   "execution_count": null,
   "metadata": {
    "scrolled": false
   },
   "outputs": [],
   "source": [
    "print(\"Accuracy is \", accuracy_score(y_test,y_pred_dt)*100)\n",
    "print(confusion_matrix(y_test,y_pred_dt))\n",
    "print('\\n')\n",
    "print(classification_report(y_test,y_pred_dt))"
   ]
  },
  {
   "cell_type": "code",
   "execution_count": null,
   "metadata": {},
   "outputs": [],
   "source": [
    "# min_samples_splits = np.linspace(0.1, 1.0, 10, endpoint=True)\n",
    "# train_results = []\n",
    "# test_results = []\n",
    "# for min_samples_split in min_samples_splits:\n",
    "#    dt = DecisionTreeClassifier(min_samples_split=min_samples_split)\n",
    "#    dt.fit(X_train, y_train)\n",
    "#    train_pred = dt.predict(X_train)\n",
    "#    false_positive_rate, true_positive_rate, thresholds =    roc_curve(y_train, train_pred)\n",
    "#    roc_auc = auc(false_positive_rate, true_positive_rate)\n",
    "#    train_results.append(roc_auc)\n",
    "#    y_pred = dt.predict(X_test)\n",
    "#    false_positive_rate, true_positive_rate, thresholds = roc_curve(y_test, y_pred)\n",
    "#    roc_auc = auc(false_positive_rate, true_positive_rate)\n",
    "#    test_results.append(roc_auc)\n",
    "# from matplotlib.legend_handler import HandlerLine2D\n",
    "# line1, = plt.plot(min_samples_splits, train_results, 'b', label=\"Train AUC\")\n",
    "# line2, = plt.plot(min_samples_splits, test_results, 'r', label=\"Test AUC\")\n",
    "# plt.legend(handler_map={line1: HandlerLine2D(numpoints=2)})\n",
    "# plt.ylabel('AUC score')\n",
    "# plt.xlabel('min samples split')\n",
    "# plt.show()"
   ]
  },
  {
   "cell_type": "code",
   "execution_count": null,
   "metadata": {},
   "outputs": [],
   "source": [
    "# min_samples_leafs = np.linspace(0.1, 0.5, 5, endpoint=True)\n",
    "# train_results = []\n",
    "# test_results = []\n",
    "# for min_samples_leaf in min_samples_leafs:\n",
    "#    dt = DecisionTreeClassifier(min_samples_leaf=min_samples_leaf)\n",
    "#    dt.fit(X_train, y_train)\n",
    "#    train_pred = dt.predict(X_train)\n",
    "#    false_positive_rate, true_positive_rate, thresholds = roc_curve(y_train, train_pred)\n",
    "#    roc_auc = auc(false_positive_rate, true_positive_rate)\n",
    "#    train_results.append(roc_auc)\n",
    "#    y_pred = dt.predict(X_test)\n",
    "#    false_positive_rate, true_positive_rate, thresholds = roc_curve(y_test, y_pred)\n",
    "#    roc_auc = auc(false_positive_rate, true_positive_rate)\n",
    "#    test_results.append(roc_auc)\n",
    "# from matplotlib.legend_handler import HandlerLine2D\n",
    "# line1, = plt.plot(min_samples_leafs, train_results, 'b', label=\"Train AUC\")\n",
    "# line2, = plt.plot(min_samples_leafs, test_results, 'r', label=\"Test AUC\")\n",
    "# plt.legend(handler_map={line1: HandlerLine2D(numpoints=2)})\n",
    "# plt.ylabel('AUC score')\n",
    "# plt.xlabel('min samples leaf')\n",
    "# plt.show()"
   ]
  },
  {
   "cell_type": "markdown",
   "metadata": {},
   "source": [
    "## Tree Visualization using the the built-in visualization from Scikit learn. This requires to install the pydot library and Graphviz."
   ]
  },
  {
   "cell_type": "code",
   "execution_count": null,
   "metadata": {},
   "outputs": [],
   "source": [
    "from IPython.display import Image  \n",
    "from sklearn.externals.six import StringIO  \n",
    "from sklearn.tree import export_graphviz\n",
    "import pydot \n",
    "\n",
    "features = list(X_train.columns)"
   ]
  },
  {
   "cell_type": "code",
   "execution_count": null,
   "metadata": {},
   "outputs": [],
   "source": [
    "dot_data = StringIO()  \n",
    "export_graphviz(clf_gini, out_file=dot_data,feature_names=features,filled=True,rounded=True)\n",
    "\n",
    "graph = pydot.graph_from_dot_data(dot_data.getvalue())  \n",
    "Image(graph[0].create_png()) "
   ]
  },
  {
   "cell_type": "markdown",
   "metadata": {},
   "source": [
    "# b) Random Forests (RF)"
   ]
  },
  {
   "cell_type": "markdown",
   "metadata": {},
   "source": [
    "We will first fit the model with default parameters and evaluate the performance, then we will tune the parameters and compare the performance. "
   ]
  },
  {
   "cell_type": "code",
   "execution_count": null,
   "metadata": {},
   "outputs": [],
   "source": [
    "rfc = RandomForestClassifier(random_state=101)\n",
    "rfc_clf = rfc.fit(X_train, y_train)"
   ]
  },
  {
   "cell_type": "code",
   "execution_count": null,
   "metadata": {},
   "outputs": [],
   "source": [
    "rfc_pred = rfc_clf.predict(X_test)"
   ]
  },
  {
   "cell_type": "code",
   "execution_count": null,
   "metadata": {},
   "outputs": [],
   "source": [
    "print(\"Accuracy is \", accuracy_score(y_test,rfc_pred)*100)\n",
    "print(confusion_matrix(y_test,rfc_pred))\n",
    "print('\\n')\n",
    "print(classification_report(y_test,rfc_pred))"
   ]
  },
  {
   "cell_type": "markdown",
   "metadata": {},
   "source": [
    "Similar to DT classifier, we will use the area under curve AUC to evaluate the model. "
   ]
  },
  {
   "cell_type": "code",
   "execution_count": null,
   "metadata": {},
   "outputs": [],
   "source": [
    "false_positive_rate, true_positive_rate, thresholds = roc_curve(y_test, y_pred)\n",
    "roc_auc = auc(false_positive_rate, true_positive_rate)\n",
    "roc_auc"
   ]
  },
  {
   "cell_type": "code",
   "execution_count": null,
   "metadata": {},
   "outputs": [],
   "source": [
    "n_estimators = [1, 2, 4, 8, 16, 32, 64, 100, 200]\n",
    "train_results = []\n",
    "test_results = []\n",
    "\n",
    "for estimator in n_estimators:\n",
    "   rf = RandomForestClassifier(n_estimators=estimator, n_jobs=-1, random_state=101)\n",
    "   rf.fit(X_train, y_train)\n",
    "   train_pred = rf.predict(X_train)\n",
    "   false_positive_rate, true_positive_rate, thresholds = roc_curve(y_train, train_pred)\n",
    "   roc_auc = auc(false_positive_rate, true_positive_rate)\n",
    "   train_results.append(roc_auc)\n",
    "   y_pred = rf.predict(X_test)\n",
    "   false_positive_rate, true_positive_rate, thresholds = roc_curve(y_test, y_pred)\n",
    "   roc_auc = auc(false_positive_rate, true_positive_rate)\n",
    "   test_results.append(roc_auc)\n",
    "\n",
    "    \n",
    "line1, = plt.plot(n_estimators, train_results, 'b', label=\"Train AUC\")\n",
    "line2, = plt.plot(n_estimators, test_results, 'r', label=\"Test AUC\")\n",
    "plt.legend(handler_map={line1: HandlerLine2D(numpoints=2)})\n",
    "plt.ylabel('AUC score')\n",
    "plt.xlabel('n_estimators')\n",
    "plt.show()\n",
    "# Source: https://medium.com/all-things-ai/in-depth-parameter-tuning-for-random-forest-d67bb7e920d"
   ]
  },
  {
   "cell_type": "code",
   "execution_count": null,
   "metadata": {},
   "outputs": [],
   "source": []
  },
  {
   "cell_type": "markdown",
   "metadata": {},
   "source": [
    "The n_estimators in the random forests classifier represents the numsber of trees used in the classifier. Based on the AUC graph above, we see that the highest AUC score for the test data will be around 16 n_estimators. Increasing the n_estimators decreases the test perfomance. "
   ]
  },
  {
   "cell_type": "code",
   "execution_count": null,
   "metadata": {},
   "outputs": [],
   "source": [
    "max_depths = np.linspace(1, 32, 32, endpoint=True)\n",
    "train_results = []\n",
    "test_results = []\n",
    "\n",
    "for max_depth in max_depths:\n",
    "   rf = RandomForestClassifier(max_depth=max_depth, n_jobs=-1, random_state=101)\n",
    "   rf.fit(X_train, y_train)\n",
    "   train_pred = rf.predict(X_train)\n",
    "   false_positive_rate, true_positive_rate, thresholds = roc_curve(y_train, train_pred)\n",
    "   roc_auc = auc(false_positive_rate, true_positive_rate)\n",
    "   train_results.append(roc_auc)\n",
    "   y_pred = rf.predict(X_test)\n",
    "   false_positive_rate, true_positive_rate, thresholds = roc_curve(y_test, y_pred)\n",
    "   roc_auc = auc(false_positive_rate, true_positive_rate)\n",
    "   test_results.append(roc_auc)\n",
    "from matplotlib.legend_handler import HandlerLine2D\n",
    "line1, = plt.plot(max_depths, train_results, 'b', label=\"Train AUC\")\n",
    "line2, = plt.plot(max_depths, test_results, 'r', label=\"Test AUC\")\n",
    "plt.legend(handler_map={line1: HandlerLine2D(numpoints=2)})\n",
    "plt.ylabel('AUC score')\n",
    "plt.xlabel('Tree depth')\n",
    "plt.show()\n",
    "#Source: https://medium.com/all-things-ai/in-depth-parameter-tuning-for-random-forest-d67bb7e920d"
   ]
  },
  {
   "cell_type": "markdown",
   "metadata": {},
   "source": [
    "We see that the higher the tree depth, we get an overfitting case. So a tree depth of 3 wil be chosen"
   ]
  },
  {
   "cell_type": "code",
   "execution_count": null,
   "metadata": {},
   "outputs": [],
   "source": [
    "RFC = RandomForestClassifier(n_estimators=16,random_state=101, max_depth=3)\n",
    "RFC_clf = RFC.fit(X_train, y_train)\n",
    "RFC_pred = RFC.predict(X_test)\n",
    "\n",
    "\n",
    "print(\"Results from the default parameters:\")\n",
    "print(\"Accuracy is \", accuracy_score(y_test,rfc_pred)*100)\n",
    "print(confusion_matrix(y_test,rfc_pred))\n",
    "print(classification_report(y_test,rfc_pred))\n",
    "print('\\n')\n",
    "print(\"Results from the tunned parameters:\")\n",
    "print(\"Accuracy is \", accuracy_score(y_test,RFC_pred)*100)\n",
    "print(confusion_matrix(y_test,RFC_pred))\n",
    "print(classification_report(y_test,RFC_pred))"
   ]
  },
  {
   "cell_type": "markdown",
   "metadata": {},
   "source": [
    "# C) Neural Networks (NN)"
   ]
  },
  {
   "cell_type": "markdown",
   "metadata": {},
   "source": [
    "Data should be normalized before training the neural network model. This is because the NN model might not converge before the max number of iterations allowed. Also, the multi-layer perception is sensitive to scaling the features. (source: https://www.kdnuggets.com/2016/10/beginners-guide-neural-networks-python-scikit-learn.html/2)\n",
    "\n"
   ]
  },
  {
   "cell_type": "code",
   "execution_count": null,
   "metadata": {},
   "outputs": [],
   "source": [
    "scaler = StandardScaler()\n",
    "scaler.fit(df.drop('y',axis=1))\n",
    "scaled_features = scaler.transform(df.drop('y',axis=1))\n",
    "\n",
    "df_feat = pd.DataFrame(scaled_features,columns=df.columns[:-1])\n",
    "\n",
    "X_nn = df_feat.loc[:,]\n",
    "y_nn = df['y']\n",
    "X_train_nn, X_test_nn, y_train_nn, y_test_nn = train_test_split(X_nn,y_nn, test_size=0.30,random_state=101)\n"
   ]
  },
  {
   "cell_type": "code",
   "execution_count": null,
   "metadata": {},
   "outputs": [],
   "source": [
    "y_nn.head()"
   ]
  },
  {
   "cell_type": "code",
   "execution_count": null,
   "metadata": {},
   "outputs": [],
   "source": [
    "# Testing with 2 layers with number of neurons:(36,36)\n",
    "mlp = MLPClassifier(max_iter=1000,random_state=101, hidden_layer_sizes=(36,36))"
   ]
  },
  {
   "cell_type": "code",
   "execution_count": null,
   "metadata": {},
   "outputs": [],
   "source": [
    "nn_clf = mlp.fit(X_train_nn,y_train_nn)"
   ]
  },
  {
   "cell_type": "markdown",
   "metadata": {},
   "source": [
    "predicting and evaluating"
   ]
  },
  {
   "cell_type": "code",
   "execution_count": null,
   "metadata": {},
   "outputs": [],
   "source": [
    "predictions = nn_clf.predict(X_test_nn)"
   ]
  },
  {
   "cell_type": "code",
   "execution_count": null,
   "metadata": {},
   "outputs": [],
   "source": [
    "print(\"Accuracy is \", accuracy_score(y_test,predictions)*100)\n",
    "print(confusion_matrix(y_test,predictions))\n",
    "print(\"\\n\")\n",
    "print(classification_report(y_test,predictions))"
   ]
  },
  {
   "cell_type": "markdown",
   "metadata": {},
   "source": [
    "Tunning the NN parameters using the GridSearchCV method."
   ]
  },
  {
   "cell_type": "code",
   "execution_count": null,
   "metadata": {},
   "outputs": [],
   "source": [
    "parameter_space = {\n",
    "    'max_iter': [2000],\n",
    "    'hidden_layer_sizes': [(32,32), (20,20), (47,47)],\n",
    "    'activation': ['tanh', 'relu'],\n",
    "    'solver': ['sgd', 'adam','lbfgs'],\n",
    "    'alpha': [0.0001, 0.05],\n",
    "    'learning_rate': ['constant'],\n",
    "    'random_state': [101]\n",
    "}"
   ]
  },
  {
   "cell_type": "code",
   "execution_count": null,
   "metadata": {},
   "outputs": [],
   "source": [
    "clf = GridSearchCV(mlp, parameter_space, n_jobs=-1, cv=3, refit=True)"
   ]
  },
  {
   "cell_type": "code",
   "execution_count": null,
   "metadata": {},
   "outputs": [],
   "source": [
    "clf.fit(X_train_nn, y_train_nn)"
   ]
  },
  {
   "cell_type": "code",
   "execution_count": null,
   "metadata": {},
   "outputs": [],
   "source": [
    "# Best parameter set\n",
    "print('Best parameters found:\\n', clf.best_params_)"
   ]
  },
  {
   "cell_type": "code",
   "execution_count": null,
   "metadata": {},
   "outputs": [],
   "source": [
    "mlp_nn = MLPClassifier(activation = 'tanh',alpha = 0.0001, learning_rate= 'constant', solver = 'sgd', random_state=101, hidden_layer_sizes=(32,32), max_iter=2000)"
   ]
  },
  {
   "cell_type": "code",
   "execution_count": null,
   "metadata": {},
   "outputs": [],
   "source": [
    "mlp_nn.fit(X_train_nn, y_train_nn)"
   ]
  },
  {
   "cell_type": "code",
   "execution_count": null,
   "metadata": {},
   "outputs": [],
   "source": []
  },
  {
   "cell_type": "code",
   "execution_count": null,
   "metadata": {},
   "outputs": [],
   "source": [
    "y_true, y_pred = y_test_nn , clf.predict(X_test_nn)\n",
    "\n",
    "print(\"Results from the default parameters:\")\n",
    "print(\"Accuracy is \", accuracy_score(y_test,predictions)*100)\n",
    "print(confusion_matrix(y_test,predictions))\n",
    "print(classification_report(y_test,predictions))\n",
    "print(\"\\n\")\n",
    "print(\"Results from the tunned parameters:\")\n",
    "print(\"Accuracy is \", accuracy_score(y_true,y_pred)*100)\n",
    "print(confusion_matrix(y_true,y_pred))\n",
    "print(classification_report(y_true, y_pred))\n"
   ]
  },
  {
   "cell_type": "code",
   "execution_count": null,
   "metadata": {},
   "outputs": [],
   "source": []
  },
  {
   "cell_type": "markdown",
   "metadata": {},
   "source": [
    "# IV. Creating plots of the models on the test data"
   ]
  },
  {
   "cell_type": "markdown",
   "metadata": {},
   "source": [
    "# Plotting best two features"
   ]
  },
  {
   "cell_type": "markdown",
   "metadata": {},
   "source": [
    "Normalized Data for Nural Network:"
   ]
  },
  {
   "cell_type": "code",
   "execution_count": null,
   "metadata": {},
   "outputs": [],
   "source": [
    "X_testnn_df =pd.DataFrame(X_test_nn, columns=df.columns[:-1]) \n",
    "y_testnn_df = pd.DataFrame(y_test_nn, columns = ['y'])\n",
    "X_testnn_df.head()"
   ]
  },
  {
   "cell_type": "code",
   "execution_count": null,
   "metadata": {},
   "outputs": [],
   "source": [
    "X_test_df =pd.DataFrame(X_test, columns=df.columns[:-1]) \n",
    "y_test_df = pd.DataFrame(y_test, columns = ['y'])\n",
    "X_test_df.head()"
   ]
  },
  {
   "cell_type": "code",
   "execution_count": null,
   "metadata": {},
   "outputs": [],
   "source": [
    "list(zip(X_test_df.columns, dt_clf.feature_importances_))"
   ]
  },
  {
   "cell_type": "code",
   "execution_count": null,
   "metadata": {},
   "outputs": [],
   "source": [
    "X = X_test_df.iloc[:, ]\n",
    "X = X[['pdays','nr.employed']]\n",
    "y= y_test_df['y']\n",
    "\n",
    "\n",
    "\n",
    "label = ['Decision Tree', 'Random Forests']\n",
    "clf_list = [clf_gini, RFC]\n",
    "\n",
    "fig = plt.figure(figsize=(10, 8))\n",
    "gs = gridspec.GridSpec(2, 2)\n",
    "grid = itertools.product([0,1],repeat=2)\n",
    "\n",
    "X = X.values\n",
    "y = y.values\n",
    "\n",
    "for clf, label, grd in zip(clf_list, label, grid):        \n",
    "    scores = cross_val_score(clf, X, y, cv=3, scoring='accuracy')\n",
    "    print(\"Accuracy: %.2f (+/- %.2f) [%s]\" %(scores.mean(), scores.std(), label))\n",
    "        \n",
    "    clf.fit(X, y)\n",
    "    ax = plt.subplot(gs[grd[0], grd[1]])\n",
    "    fig = plot_decision_regions(X=X, y=y, clf=clf, legend=2)\n",
    "    plt.title(label)\n",
    "    plt.xlabel('pdays')\n",
    "    plt.ylabel('nr.employed')\n",
    "\n",
    "plt.show()"
   ]
  },
  {
   "cell_type": "code",
   "execution_count": null,
   "metadata": {},
   "outputs": [],
   "source": [
    "X = X_testnn_df.iloc[:, ]\n",
    "X = X[['pdays','nr.employed']]\n",
    "y= y_testnn_df['y']\n",
    "\n",
    "\n",
    "label = ['Neural Network']\n",
    "clf_list = [mlp_nn]\n",
    "\n",
    "fig = plt.figure(figsize=(10, 8))\n",
    "gs = gridspec.GridSpec(2, 2)\n",
    "grid = itertools.product([0,1],repeat=2)\n",
    "\n",
    "X = X.values\n",
    "y = y.values\n",
    "\n",
    "\n",
    "for clf, label, grd in zip(clf_list, label, grid):        \n",
    "    scores = cross_val_score(clf, X, y, cv=3, scoring='accuracy')\n",
    "    print(\"Accuracy: %.2f (+/- %.2f) [%s]\" %(scores.mean(), scores.std(), label))\n",
    "        \n",
    "    clf.fit(X, y)\n",
    "    ax = plt.subplot(gs[grd[0], grd[1]])\n",
    "    fig = plot_decision_regions(X=X, y=y, clf=clf, legend=2)\n",
    "    plt.title(label)\n",
    "    plt.xlabel('pdays')\n",
    "    plt.ylabel('nr.employed')\n",
    "\n",
    "    \n",
    "plt.show()"
   ]
  },
  {
   "cell_type": "code",
   "execution_count": null,
   "metadata": {},
   "outputs": [],
   "source": [
    "X = X_test_df.iloc[:, ]\n",
    "X = X[['nr.employed','euribor3m']]\n",
    "y= y_test_df['y']\n",
    "\n",
    "\n",
    "\n",
    "label = ['Decision Tree', 'Random Forests']\n",
    "clf_list = [clf_gini, RFC]\n",
    "\n",
    "fig = plt.figure(figsize=(10, 8))\n",
    "gs = gridspec.GridSpec(2, 2)\n",
    "grid = itertools.product([0,1],repeat=2)\n",
    "\n",
    "X = X.values\n",
    "y = y.values\n",
    "\n",
    "for clf, label, grd in zip(clf_list, label, grid):        \n",
    "    scores = cross_val_score(clf, X, y, cv=3, scoring='accuracy')\n",
    "    print(\"Accuracy: %.2f (+/- %.2f) [%s]\" %(scores.mean(), scores.std(), label))\n",
    "        \n",
    "    clf.fit(X, y)\n",
    "    ax = plt.subplot(gs[grd[0], grd[1]])\n",
    "    fig = plot_decision_regions(X=X, y=y, clf=clf, legend=2)\n",
    "    plt.title(label)\n",
    "    plt.xlabel('nr.employed')\n",
    "    plt.ylabel('euribor3m')\n",
    "\n",
    "plt.show()"
   ]
  },
  {
   "cell_type": "code",
   "execution_count": null,
   "metadata": {},
   "outputs": [],
   "source": [
    "X = X_testnn_df.iloc[:, ]\n",
    "X = X[['nr.employed','euribor3m']]\n",
    "y= y_testnn_df['y']\n",
    "\n",
    "\n",
    "label = ['Neural Network']\n",
    "clf_list = [mlp_nn]\n",
    "\n",
    "fig = plt.figure(figsize=(10, 8))\n",
    "gs = gridspec.GridSpec(2, 2)\n",
    "grid = itertools.product([0,1],repeat=2)\n",
    "\n",
    "X = X.values\n",
    "y = y.values\n",
    "\n",
    "\n",
    "for clf, label, grd in zip(clf_list, label, grid):        \n",
    "    scores = cross_val_score(clf, X, y, cv=3, scoring='accuracy')\n",
    "    print(\"Accuracy: %.2f (+/- %.2f) [%s]\" %(scores.mean(), scores.std(), label))\n",
    "        \n",
    "    clf.fit(X, y)\n",
    "    ax = plt.subplot(gs[grd[0], grd[1]])\n",
    "    fig = plot_decision_regions(X=X, y=y, clf=clf, legend=2)\n",
    "    plt.title(label)\n",
    "    plt.xlabel('nr.employed')\n",
    "    plt.ylabel('euribor3m')\n",
    "\n",
    "    \n",
    "plt.show()"
   ]
  },
  {
   "cell_type": "code",
   "execution_count": null,
   "metadata": {},
   "outputs": [],
   "source": [
    "X = X_test_df.iloc[:, ]\n",
    "X = X[['pdays','euribor3m']]\n",
    "y= y_test_df['y']\n",
    "\n",
    "\n",
    "label = ['Decision Tree', 'Random Forests']\n",
    "clf_list = [clf_gini, RFC]\n",
    "\n",
    "fig = plt.figure(figsize=(10, 8))\n",
    "gs = gridspec.GridSpec(2, 2)\n",
    "grid = itertools.product([0,1],repeat=2)\n",
    "\n",
    "X = X.values\n",
    "y = y.values\n",
    "\n",
    "\n",
    "for clf, label, grd in zip(clf_list, label, grid):        \n",
    "    scores = cross_val_score(clf, X, y, cv=3, scoring='accuracy')\n",
    "    print(\"Accuracy: %.2f (+/- %.2f) [%s]\" %(scores.mean(), scores.std(), label))\n",
    "        \n",
    "    clf.fit(X, y)\n",
    "    ax = plt.subplot(gs[grd[0], grd[1]])\n",
    "    fig = plot_decision_regions(X=X, y=y, clf=clf, legend=2)\n",
    "    plt.title(label)\n",
    "    plt.xlabel('pdays')\n",
    "    plt.ylabel('euribor3m')\n",
    "\n",
    "plt.show()"
   ]
  },
  {
   "cell_type": "code",
   "execution_count": null,
   "metadata": {},
   "outputs": [],
   "source": [
    "X = X_testnn_df.iloc[:, ]\n",
    "X = X[['pdays','euribor3m']]\n",
    "y= y_testnn_df['y']\n",
    "\n",
    "\n",
    "label = ['Neural Network']\n",
    "clf_list = [mlp_nn]\n",
    "\n",
    "fig = plt.figure(figsize=(10, 8))\n",
    "gs = gridspec.GridSpec(2, 2)\n",
    "grid = itertools.product([0,1],repeat=2)\n",
    "\n",
    "X = X.values\n",
    "y = y.values\n",
    "\n",
    "\n",
    "for clf, label, grd in zip(clf_list, label, grid):        \n",
    "    scores = cross_val_score(clf, X, y, cv=3, scoring='accuracy')\n",
    "    print(\"Accuracy: %.2f (+/- %.2f) [%s]\" %(scores.mean(), scores.std(), label))\n",
    "        \n",
    "    clf.fit(X, y)\n",
    "    ax = plt.subplot(gs[grd[0], grd[1]])\n",
    "    fig = plot_decision_regions(X=X, y=y, clf=clf, legend=2)\n",
    "    plt.title(label)\n",
    "    plt.xlabel('pdays')\n",
    "    plt.ylabel('euribor3m')\n",
    "\n",
    "    \n",
    "plt.show()"
   ]
  },
  {
   "cell_type": "markdown",
   "metadata": {},
   "source": [
    "# Produce a table with the true/false positive/negative metrics as well as accuracies"
   ]
  },
  {
   "cell_type": "code",
   "execution_count": null,
   "metadata": {},
   "outputs": [],
   "source": [
    "print(\"Classification Report for Decision Tree:\")\n",
    "print(\"Accuracy is \", accuracy_score(y_test,y_pred_dt)*100)\n",
    "print(confusion_matrix(y_test,y_pred_dt))\n",
    "print('\\n')\n",
    "print(classification_report(y_test,y_pred_dt))\n",
    "\n",
    "print(\"Classification Report for Random Forests:\")\n",
    "print(\"Accuracy is \", accuracy_score(y_test,RFC_pred)*100)\n",
    "print(confusion_matrix(y_test,RFC_pred))\n",
    "print(classification_report(y_test,RFC_pred))\n",
    "\n",
    "\n",
    "print(\"Classification Report for Neural Network:\")\n",
    "print(\"Accuracy is \", accuracy_score(y_true,y_pred)*100)\n",
    "print(confusion_matrix(y_true,y_pred))\n",
    "print(classification_report(y_true, y_pred))"
   ]
  },
  {
   "cell_type": "code",
   "execution_count": null,
   "metadata": {},
   "outputs": [],
   "source": [
    "algorithms = ('Decision Tree', 'Random Forest', 'Neural Network')\n",
    "ind = ['Accuracies (%)', 'True Positive', 'False Positive', 'False Negative', 'True Negative']\n",
    "accuracies = [accuracy_score(y_test,y_pred_dt)*100,accuracy_score(y_test,RFC_pred)*100,accuracy_score(y_true,y_pred)*100]\n",
    "true_negative = [confusion_matrix(y_test,y_pred_dt)[0][0], confusion_matrix(y_test,RFC_pred)[0][0],confusion_matrix(y_true,y_pred)[0][0]]\n",
    "false_negative = [confusion_matrix(y_test,y_pred_dt)[0][1],confusion_matrix(y_test,RFC_pred)[0][1], confusion_matrix(y_true,y_pred)[0][1]]\n",
    "false_positive = [confusion_matrix(y_test,y_pred_dt)[1][0],confusion_matrix(y_test,RFC_pred)[1][0],confusion_matrix(y_true,y_pred)[1][0]]\n",
    "true_positive = [confusion_matrix(y_test,y_pred_dt)[1][1],confusion_matrix(y_test,RFC_pred)[1][1],confusion_matrix(y_true,y_pred)[1][1]]\n",
    "\n",
    "arr1 = np.array([accuracies, true_positive,false_positive,false_negative,true_negative]) \n",
    "table_1 = pd.DataFrame(arr1, index = ind, columns = algorithms)\n",
    "\n",
    "table_1"
   ]
  },
  {
   "cell_type": "code",
   "execution_count": null,
   "metadata": {},
   "outputs": [],
   "source": [
    "# import matplotlib.pyplot as plt; plt.rcdefaults()\n",
    "\n",
    "algorithms = ('Decision Tree', 'Random Forest', 'Neural Network')\n",
    "x_axis = np.arange(len(algorithms))\n",
    "dt_accuracy = accuracy_score(y_test,y_pred_dt)*100\n",
    "rf_accuracy = accuracy_score(y_test,RFC_pred)*100\n",
    "nn_accuracy = accuracy_score(y_true,y_pred)*100\n",
    "performance = [dt_accuracy,rf_accuracy,nn_accuracy]\n",
    " \n",
    "plt.bar(x_axis, performance, align='center', alpha=0.5)\n",
    "plt.xticks(x_axis, algorithms)\n",
    "plt.ylabel('Accuracy')\n",
    "plt.title('Accuracies for the Classification Algorithms')\n",
    " \n",
    "\n",
    "plt.show()"
   ]
  },
  {
   "cell_type": "code",
   "execution_count": null,
   "metadata": {},
   "outputs": [],
   "source": [
    "algorithms = ('Decision Tree', 'Random Forest', 'Neural Network')\n",
    "x_axis = np.arange(len(algorithms))\n",
    "dt_truep = confusion_matrix(y_test,y_pred_dt)[0][0]\n",
    "rf_truep = confusion_matrix(y_test,RFC_pred)[0][0]\n",
    "nn_truep = confusion_matrix(y_true,y_pred)[0][0]\n",
    "truep = [dt_truep,rf_truep,nn_truep]\n",
    " \n",
    "plt.bar(x_axis, truep, align='center', alpha=0.5)\n",
    "plt.xticks(x_axis, algorithms)\n",
    "plt.ylabel('True negative')\n",
    "plt.title('True negative values')\n",
    " \n",
    "\n",
    "plt.show()"
   ]
  },
  {
   "cell_type": "code",
   "execution_count": null,
   "metadata": {},
   "outputs": [],
   "source": [
    "algorithms = ('Decision Tree', 'Random Forest', 'Neural Network')\n",
    "x_axis = np.arange(len(algorithms))\n",
    "dt_falsep = confusion_matrix(y_test,y_pred_dt)[0][1]\n",
    "rf_falsep = confusion_matrix(y_test,RFC_pred)[0][1]\n",
    "nn_falsep = confusion_matrix(y_true,y_pred)[0][1]\n",
    "falsep = [dt_falsep,rf_falsep,nn_falsep]\n",
    " \n",
    "plt.bar(x_axis, falsep, align='center', alpha=0.5)\n",
    "plt.xticks(x_axis, algorithms)\n",
    "plt.ylabel('False Negative')\n",
    "plt.title('False negative values for the classificiation algorithms')\n",
    " \n",
    "\n",
    "plt.show()"
   ]
  },
  {
   "cell_type": "code",
   "execution_count": null,
   "metadata": {},
   "outputs": [],
   "source": [
    "algorithms = ('Decision Tree', 'Random Forest', 'Neural Network')\n",
    "x_axis = np.arange(len(algorithms))\n",
    "dt_falseN = confusion_matrix(y_test,y_pred_dt)[1][0]\n",
    "rf_falseN = confusion_matrix(y_test,RFC_pred)[1][0]\n",
    "nn_falseN = confusion_matrix(y_true,y_pred)[1][0]\n",
    "falseN = [dt_falseN,rf_falseN,nn_falseN]\n",
    " \n",
    "plt.bar(x_axis, falseN, align='center', alpha=0.5)\n",
    "plt.xticks(x_axis, algorithms)\n",
    "plt.ylabel('False Positive')\n",
    "plt.title('False positive values for the classificiation algorithms')\n",
    " \n",
    "\n",
    "plt.show()"
   ]
  },
  {
   "cell_type": "code",
   "execution_count": null,
   "metadata": {},
   "outputs": [],
   "source": [
    "algorithms = ('Decision Tree', 'Random Forest', 'Neural Network')\n",
    "x_axis = np.arange(len(algorithms))\n",
    "dt_falseP = confusion_matrix(y_test,y_pred_dt)[1][1]\n",
    "rf_falseP = confusion_matrix(y_test,RFC_pred)[1][1]\n",
    "nn_falseP = confusion_matrix(y_true,y_pred)[1][1]\n",
    "falseP = [dt_falseP,rf_falseP,nn_falseP]\n",
    " \n",
    "plt.bar(x_axis, falseP, align='center', alpha=0.5)\n",
    "plt.xticks(x_axis, algorithms)\n",
    "plt.ylabel('True Postive')\n",
    "plt.title('True postive values for the classificiation algorithms')\n",
    " \n",
    "\n",
    "plt.show()"
   ]
  },
  {
   "cell_type": "code",
   "execution_count": null,
   "metadata": {},
   "outputs": [],
   "source": []
  },
  {
   "cell_type": "markdown",
   "metadata": {},
   "source": [
    "# Question 2: Parameter Selection and Classification (for dataset B)"
   ]
  },
  {
   "cell_type": "markdown",
   "metadata": {},
   "source": [
    "# 1. Data loading and preprocessing using the Z-score normalization "
   ]
  },
  {
   "cell_type": "code",
   "execution_count": 5,
   "metadata": {},
   "outputs": [
    {
     "name": "stdout",
     "output_type": "stream",
     "text": [
      "(2200, 58)\n"
     ]
    },
    {
     "data": {
      "text/html": [
       "<div>\n",
       "<style scoped>\n",
       "    .dataframe tbody tr th:only-of-type {\n",
       "        vertical-align: middle;\n",
       "    }\n",
       "\n",
       "    .dataframe tbody tr th {\n",
       "        vertical-align: top;\n",
       "    }\n",
       "\n",
       "    .dataframe thead th {\n",
       "        text-align: right;\n",
       "    }\n",
       "</style>\n",
       "<table border=\"1\" class=\"dataframe\">\n",
       "  <thead>\n",
       "    <tr style=\"text-align: right;\">\n",
       "      <th></th>\n",
       "      <th>0</th>\n",
       "      <th>1</th>\n",
       "      <th>2</th>\n",
       "      <th>3</th>\n",
       "      <th>4</th>\n",
       "      <th>5</th>\n",
       "      <th>6</th>\n",
       "      <th>7</th>\n",
       "      <th>8</th>\n",
       "      <th>9</th>\n",
       "      <th>...</th>\n",
       "      <th>48</th>\n",
       "      <th>49</th>\n",
       "      <th>50</th>\n",
       "      <th>51</th>\n",
       "      <th>52</th>\n",
       "      <th>53</th>\n",
       "      <th>54</th>\n",
       "      <th>55</th>\n",
       "      <th>56</th>\n",
       "      <th>57</th>\n",
       "    </tr>\n",
       "  </thead>\n",
       "  <tbody>\n",
       "    <tr>\n",
       "      <th>0</th>\n",
       "      <td>1</td>\n",
       "      <td>2</td>\n",
       "      <td>1</td>\n",
       "      <td>2</td>\n",
       "      <td>1</td>\n",
       "      <td>2</td>\n",
       "      <td>3</td>\n",
       "      <td>3</td>\n",
       "      <td>3</td>\n",
       "      <td>3</td>\n",
       "      <td>...</td>\n",
       "      <td>3</td>\n",
       "      <td>2</td>\n",
       "      <td>3</td>\n",
       "      <td>4</td>\n",
       "      <td>2</td>\n",
       "      <td>2</td>\n",
       "      <td>2</td>\n",
       "      <td>2</td>\n",
       "      <td>1</td>\n",
       "      <td>1</td>\n",
       "    </tr>\n",
       "    <tr>\n",
       "      <th>1</th>\n",
       "      <td>3</td>\n",
       "      <td>3</td>\n",
       "      <td>4</td>\n",
       "      <td>2</td>\n",
       "      <td>1</td>\n",
       "      <td>2</td>\n",
       "      <td>2</td>\n",
       "      <td>4</td>\n",
       "      <td>3</td>\n",
       "      <td>2</td>\n",
       "      <td>...</td>\n",
       "      <td>1</td>\n",
       "      <td>4</td>\n",
       "      <td>3</td>\n",
       "      <td>4</td>\n",
       "      <td>4</td>\n",
       "      <td>4</td>\n",
       "      <td>1</td>\n",
       "      <td>3</td>\n",
       "      <td>4</td>\n",
       "      <td>1</td>\n",
       "    </tr>\n",
       "    <tr>\n",
       "      <th>2</th>\n",
       "      <td>4</td>\n",
       "      <td>1</td>\n",
       "      <td>4</td>\n",
       "      <td>4</td>\n",
       "      <td>4</td>\n",
       "      <td>4</td>\n",
       "      <td>1</td>\n",
       "      <td>1</td>\n",
       "      <td>2</td>\n",
       "      <td>1</td>\n",
       "      <td>...</td>\n",
       "      <td>1</td>\n",
       "      <td>2</td>\n",
       "      <td>1</td>\n",
       "      <td>1</td>\n",
       "      <td>4</td>\n",
       "      <td>2</td>\n",
       "      <td>2</td>\n",
       "      <td>4</td>\n",
       "      <td>4</td>\n",
       "      <td>1</td>\n",
       "    </tr>\n",
       "    <tr>\n",
       "      <th>3</th>\n",
       "      <td>1</td>\n",
       "      <td>4</td>\n",
       "      <td>1</td>\n",
       "      <td>1</td>\n",
       "      <td>3</td>\n",
       "      <td>3</td>\n",
       "      <td>4</td>\n",
       "      <td>4</td>\n",
       "      <td>3</td>\n",
       "      <td>4</td>\n",
       "      <td>...</td>\n",
       "      <td>1</td>\n",
       "      <td>3</td>\n",
       "      <td>3</td>\n",
       "      <td>4</td>\n",
       "      <td>1</td>\n",
       "      <td>3</td>\n",
       "      <td>3</td>\n",
       "      <td>4</td>\n",
       "      <td>2</td>\n",
       "      <td>-1</td>\n",
       "    </tr>\n",
       "    <tr>\n",
       "      <th>4</th>\n",
       "      <td>3</td>\n",
       "      <td>4</td>\n",
       "      <td>4</td>\n",
       "      <td>3</td>\n",
       "      <td>1</td>\n",
       "      <td>1</td>\n",
       "      <td>4</td>\n",
       "      <td>4</td>\n",
       "      <td>4</td>\n",
       "      <td>1</td>\n",
       "      <td>...</td>\n",
       "      <td>3</td>\n",
       "      <td>1</td>\n",
       "      <td>3</td>\n",
       "      <td>2</td>\n",
       "      <td>1</td>\n",
       "      <td>4</td>\n",
       "      <td>2</td>\n",
       "      <td>1</td>\n",
       "      <td>1</td>\n",
       "      <td>-1</td>\n",
       "    </tr>\n",
       "    <tr>\n",
       "      <th>5</th>\n",
       "      <td>3</td>\n",
       "      <td>2</td>\n",
       "      <td>3</td>\n",
       "      <td>1</td>\n",
       "      <td>2</td>\n",
       "      <td>3</td>\n",
       "      <td>4</td>\n",
       "      <td>3</td>\n",
       "      <td>1</td>\n",
       "      <td>4</td>\n",
       "      <td>...</td>\n",
       "      <td>2</td>\n",
       "      <td>2</td>\n",
       "      <td>2</td>\n",
       "      <td>3</td>\n",
       "      <td>4</td>\n",
       "      <td>2</td>\n",
       "      <td>2</td>\n",
       "      <td>2</td>\n",
       "      <td>2</td>\n",
       "      <td>-1</td>\n",
       "    </tr>\n",
       "    <tr>\n",
       "      <th>6</th>\n",
       "      <td>4</td>\n",
       "      <td>2</td>\n",
       "      <td>1</td>\n",
       "      <td>4</td>\n",
       "      <td>2</td>\n",
       "      <td>4</td>\n",
       "      <td>4</td>\n",
       "      <td>4</td>\n",
       "      <td>2</td>\n",
       "      <td>3</td>\n",
       "      <td>...</td>\n",
       "      <td>4</td>\n",
       "      <td>3</td>\n",
       "      <td>3</td>\n",
       "      <td>4</td>\n",
       "      <td>2</td>\n",
       "      <td>2</td>\n",
       "      <td>1</td>\n",
       "      <td>2</td>\n",
       "      <td>4</td>\n",
       "      <td>1</td>\n",
       "    </tr>\n",
       "    <tr>\n",
       "      <th>7</th>\n",
       "      <td>3</td>\n",
       "      <td>3</td>\n",
       "      <td>4</td>\n",
       "      <td>3</td>\n",
       "      <td>1</td>\n",
       "      <td>3</td>\n",
       "      <td>4</td>\n",
       "      <td>3</td>\n",
       "      <td>4</td>\n",
       "      <td>1</td>\n",
       "      <td>...</td>\n",
       "      <td>4</td>\n",
       "      <td>2</td>\n",
       "      <td>2</td>\n",
       "      <td>1</td>\n",
       "      <td>1</td>\n",
       "      <td>4</td>\n",
       "      <td>3</td>\n",
       "      <td>3</td>\n",
       "      <td>1</td>\n",
       "      <td>1</td>\n",
       "    </tr>\n",
       "    <tr>\n",
       "      <th>8</th>\n",
       "      <td>1</td>\n",
       "      <td>3</td>\n",
       "      <td>4</td>\n",
       "      <td>3</td>\n",
       "      <td>3</td>\n",
       "      <td>1</td>\n",
       "      <td>1</td>\n",
       "      <td>4</td>\n",
       "      <td>2</td>\n",
       "      <td>1</td>\n",
       "      <td>...</td>\n",
       "      <td>2</td>\n",
       "      <td>1</td>\n",
       "      <td>3</td>\n",
       "      <td>2</td>\n",
       "      <td>2</td>\n",
       "      <td>2</td>\n",
       "      <td>2</td>\n",
       "      <td>1</td>\n",
       "      <td>1</td>\n",
       "      <td>1</td>\n",
       "    </tr>\n",
       "    <tr>\n",
       "      <th>9</th>\n",
       "      <td>1</td>\n",
       "      <td>3</td>\n",
       "      <td>1</td>\n",
       "      <td>1</td>\n",
       "      <td>3</td>\n",
       "      <td>1</td>\n",
       "      <td>1</td>\n",
       "      <td>2</td>\n",
       "      <td>1</td>\n",
       "      <td>1</td>\n",
       "      <td>...</td>\n",
       "      <td>2</td>\n",
       "      <td>4</td>\n",
       "      <td>2</td>\n",
       "      <td>2</td>\n",
       "      <td>2</td>\n",
       "      <td>1</td>\n",
       "      <td>1</td>\n",
       "      <td>3</td>\n",
       "      <td>1</td>\n",
       "      <td>1</td>\n",
       "    </tr>\n",
       "  </tbody>\n",
       "</table>\n",
       "<p>10 rows × 58 columns</p>\n",
       "</div>"
      ],
      "text/plain": [
       "   0   1   2   3   4   5   6   7   8   9  ...  48  49  50  51  52  53  54  55  \\\n",
       "0   1   2   1   2   1   2   3   3   3   3 ...   3   2   3   4   2   2   2   2   \n",
       "1   3   3   4   2   1   2   2   4   3   2 ...   1   4   3   4   4   4   1   3   \n",
       "2   4   1   4   4   4   4   1   1   2   1 ...   1   2   1   1   4   2   2   4   \n",
       "3   1   4   1   1   3   3   4   4   3   4 ...   1   3   3   4   1   3   3   4   \n",
       "4   3   4   4   3   1   1   4   4   4   1 ...   3   1   3   2   1   4   2   1   \n",
       "5   3   2   3   1   2   3   4   3   1   4 ...   2   2   2   3   4   2   2   2   \n",
       "6   4   2   1   4   2   4   4   4   2   3 ...   4   3   3   4   2   2   1   2   \n",
       "7   3   3   4   3   1   3   4   3   4   1 ...   4   2   2   1   1   4   3   3   \n",
       "8   1   3   4   3   3   1   1   4   2   1 ...   2   1   3   2   2   2   2   1   \n",
       "9   1   3   1   1   3   1   1   2   1   1 ...   2   4   2   2   2   1   1   3   \n",
       "\n",
       "   56  57  \n",
       "0   1   1  \n",
       "1   4   1  \n",
       "2   4   1  \n",
       "3   2  -1  \n",
       "4   1  -1  \n",
       "5   2  -1  \n",
       "6   4   1  \n",
       "7   1   1  \n",
       "8   1   1  \n",
       "9   1   1  \n",
       "\n",
       "[10 rows x 58 columns]"
      ]
     },
     "execution_count": 5,
     "metadata": {},
     "output_type": "execute_result"
    }
   ],
   "source": [
    "dataB = pd.read_csv('DataDNA.csv', sep = ',', header= None)\n",
    "df2 = pd.DataFrame(dataB)\n",
    "print(df2.shape)\n",
    "df2.head(10)"
   ]
  },
  {
   "cell_type": "code",
   "execution_count": 6,
   "metadata": {},
   "outputs": [
    {
     "name": "stdout",
     "output_type": "stream",
     "text": [
      "0\n",
      "(2200, 58)\n"
     ]
    },
    {
     "data": {
      "text/html": [
       "<div>\n",
       "<style scoped>\n",
       "    .dataframe tbody tr th:only-of-type {\n",
       "        vertical-align: middle;\n",
       "    }\n",
       "\n",
       "    .dataframe tbody tr th {\n",
       "        vertical-align: top;\n",
       "    }\n",
       "\n",
       "    .dataframe thead th {\n",
       "        text-align: right;\n",
       "    }\n",
       "</style>\n",
       "<table border=\"1\" class=\"dataframe\">\n",
       "  <thead>\n",
       "    <tr style=\"text-align: right;\">\n",
       "      <th></th>\n",
       "      <th>0</th>\n",
       "      <th>1</th>\n",
       "      <th>2</th>\n",
       "      <th>3</th>\n",
       "      <th>4</th>\n",
       "      <th>5</th>\n",
       "      <th>6</th>\n",
       "      <th>7</th>\n",
       "      <th>8</th>\n",
       "      <th>9</th>\n",
       "      <th>...</th>\n",
       "      <th>48</th>\n",
       "      <th>49</th>\n",
       "      <th>50</th>\n",
       "      <th>51</th>\n",
       "      <th>52</th>\n",
       "      <th>53</th>\n",
       "      <th>54</th>\n",
       "      <th>55</th>\n",
       "      <th>56</th>\n",
       "      <th>57</th>\n",
       "    </tr>\n",
       "  </thead>\n",
       "  <tbody>\n",
       "    <tr>\n",
       "      <th>0</th>\n",
       "      <td>1</td>\n",
       "      <td>2</td>\n",
       "      <td>1</td>\n",
       "      <td>2</td>\n",
       "      <td>1</td>\n",
       "      <td>2</td>\n",
       "      <td>3</td>\n",
       "      <td>3</td>\n",
       "      <td>3</td>\n",
       "      <td>3</td>\n",
       "      <td>...</td>\n",
       "      <td>3</td>\n",
       "      <td>2</td>\n",
       "      <td>3</td>\n",
       "      <td>4</td>\n",
       "      <td>2</td>\n",
       "      <td>2</td>\n",
       "      <td>2</td>\n",
       "      <td>2</td>\n",
       "      <td>1</td>\n",
       "      <td>1</td>\n",
       "    </tr>\n",
       "    <tr>\n",
       "      <th>1</th>\n",
       "      <td>3</td>\n",
       "      <td>3</td>\n",
       "      <td>4</td>\n",
       "      <td>2</td>\n",
       "      <td>1</td>\n",
       "      <td>2</td>\n",
       "      <td>2</td>\n",
       "      <td>4</td>\n",
       "      <td>3</td>\n",
       "      <td>2</td>\n",
       "      <td>...</td>\n",
       "      <td>1</td>\n",
       "      <td>4</td>\n",
       "      <td>3</td>\n",
       "      <td>4</td>\n",
       "      <td>4</td>\n",
       "      <td>4</td>\n",
       "      <td>1</td>\n",
       "      <td>3</td>\n",
       "      <td>4</td>\n",
       "      <td>1</td>\n",
       "    </tr>\n",
       "    <tr>\n",
       "      <th>2</th>\n",
       "      <td>4</td>\n",
       "      <td>1</td>\n",
       "      <td>4</td>\n",
       "      <td>4</td>\n",
       "      <td>4</td>\n",
       "      <td>4</td>\n",
       "      <td>1</td>\n",
       "      <td>1</td>\n",
       "      <td>2</td>\n",
       "      <td>1</td>\n",
       "      <td>...</td>\n",
       "      <td>1</td>\n",
       "      <td>2</td>\n",
       "      <td>1</td>\n",
       "      <td>1</td>\n",
       "      <td>4</td>\n",
       "      <td>2</td>\n",
       "      <td>2</td>\n",
       "      <td>4</td>\n",
       "      <td>4</td>\n",
       "      <td>1</td>\n",
       "    </tr>\n",
       "    <tr>\n",
       "      <th>3</th>\n",
       "      <td>1</td>\n",
       "      <td>4</td>\n",
       "      <td>1</td>\n",
       "      <td>1</td>\n",
       "      <td>3</td>\n",
       "      <td>3</td>\n",
       "      <td>4</td>\n",
       "      <td>4</td>\n",
       "      <td>3</td>\n",
       "      <td>4</td>\n",
       "      <td>...</td>\n",
       "      <td>1</td>\n",
       "      <td>3</td>\n",
       "      <td>3</td>\n",
       "      <td>4</td>\n",
       "      <td>1</td>\n",
       "      <td>3</td>\n",
       "      <td>3</td>\n",
       "      <td>4</td>\n",
       "      <td>2</td>\n",
       "      <td>-1</td>\n",
       "    </tr>\n",
       "    <tr>\n",
       "      <th>4</th>\n",
       "      <td>3</td>\n",
       "      <td>4</td>\n",
       "      <td>4</td>\n",
       "      <td>3</td>\n",
       "      <td>1</td>\n",
       "      <td>1</td>\n",
       "      <td>4</td>\n",
       "      <td>4</td>\n",
       "      <td>4</td>\n",
       "      <td>1</td>\n",
       "      <td>...</td>\n",
       "      <td>3</td>\n",
       "      <td>1</td>\n",
       "      <td>3</td>\n",
       "      <td>2</td>\n",
       "      <td>1</td>\n",
       "      <td>4</td>\n",
       "      <td>2</td>\n",
       "      <td>1</td>\n",
       "      <td>1</td>\n",
       "      <td>-1</td>\n",
       "    </tr>\n",
       "  </tbody>\n",
       "</table>\n",
       "<p>5 rows × 58 columns</p>\n",
       "</div>"
      ],
      "text/plain": [
       "   0   1   2   3   4   5   6   7   8   9  ...  48  49  50  51  52  53  54  55  \\\n",
       "0   1   2   1   2   1   2   3   3   3   3 ...   3   2   3   4   2   2   2   2   \n",
       "1   3   3   4   2   1   2   2   4   3   2 ...   1   4   3   4   4   4   1   3   \n",
       "2   4   1   4   4   4   4   1   1   2   1 ...   1   2   1   1   4   2   2   4   \n",
       "3   1   4   1   1   3   3   4   4   3   4 ...   1   3   3   4   1   3   3   4   \n",
       "4   3   4   4   3   1   1   4   4   4   1 ...   3   1   3   2   1   4   2   1   \n",
       "\n",
       "   56  57  \n",
       "0   1   1  \n",
       "1   4   1  \n",
       "2   4   1  \n",
       "3   2  -1  \n",
       "4   1  -1  \n",
       "\n",
       "[5 rows x 58 columns]"
      ]
     },
     "execution_count": 6,
     "metadata": {},
     "output_type": "execute_result"
    }
   ],
   "source": [
    "print(df2.isnull().sum().sum())\n",
    "# df2.iloc[:,:-1].head()\n",
    "print(df2.shape)\n",
    "df2.head()"
   ]
  },
  {
   "cell_type": "code",
   "execution_count": 7,
   "metadata": {},
   "outputs": [
    {
     "data": {
      "text/plain": [
       " 1    1137\n",
       "-1    1063\n",
       "Name: 57, dtype: int64"
      ]
     },
     "execution_count": 7,
     "metadata": {},
     "output_type": "execute_result"
    }
   ],
   "source": [
    "df2[57].value_counts()"
   ]
  },
  {
   "cell_type": "code",
   "execution_count": 8,
   "metadata": {},
   "outputs": [],
   "source": [
    "# df2[57] = df2[57].map({1: 1, -1: 0})"
   ]
  },
  {
   "cell_type": "code",
   "execution_count": 9,
   "metadata": {},
   "outputs": [
    {
     "data": {
      "text/plain": [
       "0    1\n",
       "1    1\n",
       "2    1\n",
       "3   -1\n",
       "4   -1\n",
       "Name: 57, dtype: int64"
      ]
     },
     "execution_count": 9,
     "metadata": {},
     "output_type": "execute_result"
    }
   ],
   "source": [
    "df2[57].head()"
   ]
  },
  {
   "cell_type": "code",
   "execution_count": 13,
   "metadata": {},
   "outputs": [
    {
     "name": "stderr",
     "output_type": "stream",
     "text": [
      "/home/engineer/anaconda3/envs/ece657A/lib/python3.7/site-packages/sklearn/preprocessing/data.py:625: DataConversionWarning: Data with input dtype int64 were all converted to float64 by StandardScaler.\n",
      "  return self.partial_fit(X, y)\n",
      "/home/engineer/anaconda3/envs/ece657A/lib/python3.7/site-packages/ipykernel_launcher.py:4: DataConversionWarning: Data with input dtype int64 were all converted to float64 by StandardScaler.\n",
      "  after removing the cwd from sys.path.\n"
     ]
    },
    {
     "data": {
      "text/html": [
       "<div>\n",
       "<style scoped>\n",
       "    .dataframe tbody tr th:only-of-type {\n",
       "        vertical-align: middle;\n",
       "    }\n",
       "\n",
       "    .dataframe tbody tr th {\n",
       "        vertical-align: top;\n",
       "    }\n",
       "\n",
       "    .dataframe thead th {\n",
       "        text-align: right;\n",
       "    }\n",
       "</style>\n",
       "<table border=\"1\" class=\"dataframe\">\n",
       "  <thead>\n",
       "    <tr style=\"text-align: right;\">\n",
       "      <th></th>\n",
       "      <th>0</th>\n",
       "      <th>1</th>\n",
       "      <th>2</th>\n",
       "      <th>3</th>\n",
       "      <th>4</th>\n",
       "      <th>5</th>\n",
       "      <th>6</th>\n",
       "      <th>7</th>\n",
       "      <th>8</th>\n",
       "      <th>9</th>\n",
       "      <th>10</th>\n",
       "      <th>11</th>\n",
       "      <th>12</th>\n",
       "      <th>13</th>\n",
       "      <th>14</th>\n",
       "      <th>15</th>\n",
       "      <th>16</th>\n",
       "      <th>17</th>\n",
       "      <th>18</th>\n",
       "      <th>19</th>\n",
       "      <th>20</th>\n",
       "      <th>21</th>\n",
       "      <th>22</th>\n",
       "      <th>23</th>\n",
       "      <th>24</th>\n",
       "      <th>25</th>\n",
       "      <th>26</th>\n",
       "      <th>27</th>\n",
       "      <th>28</th>\n",
       "      <th>29</th>\n",
       "      <th>30</th>\n",
       "      <th>31</th>\n",
       "      <th>32</th>\n",
       "      <th>33</th>\n",
       "      <th>34</th>\n",
       "      <th>35</th>\n",
       "      <th>36</th>\n",
       "      <th>37</th>\n",
       "      <th>38</th>\n",
       "      <th>39</th>\n",
       "      <th>40</th>\n",
       "      <th>41</th>\n",
       "      <th>42</th>\n",
       "      <th>43</th>\n",
       "      <th>44</th>\n",
       "      <th>45</th>\n",
       "      <th>46</th>\n",
       "      <th>47</th>\n",
       "      <th>48</th>\n",
       "      <th>49</th>\n",
       "      <th>50</th>\n",
       "      <th>51</th>\n",
       "      <th>52</th>\n",
       "      <th>53</th>\n",
       "      <th>54</th>\n",
       "      <th>55</th>\n",
       "      <th>56</th>\n",
       "    </tr>\n",
       "  </thead>\n",
       "  <tbody>\n",
       "    <tr>\n",
       "      <th>0</th>\n",
       "      <td>-1.352898</td>\n",
       "      <td>-0.487479</td>\n",
       "      <td>-1.372441</td>\n",
       "      <td>-0.470994</td>\n",
       "      <td>-1.431156</td>\n",
       "      <td>-0.448281</td>\n",
       "      <td>0.405564</td>\n",
       "      <td>0.415676</td>\n",
       "      <td>0.396645</td>\n",
       "      <td>0.392611</td>\n",
       "      <td>-1.454242</td>\n",
       "      <td>-0.500168</td>\n",
       "      <td>-1.369434</td>\n",
       "      <td>0.381451</td>\n",
       "      <td>1.253160</td>\n",
       "      <td>-0.579766</td>\n",
       "      <td>-1.471189</td>\n",
       "      <td>-0.599369</td>\n",
       "      <td>-0.583351</td>\n",
       "      <td>-0.598913</td>\n",
       "      <td>-1.437523</td>\n",
       "      <td>-1.477642</td>\n",
       "      <td>-0.611451</td>\n",
       "      <td>0.332324</td>\n",
       "      <td>-1.495711</td>\n",
       "      <td>1.418861</td>\n",
       "      <td>-0.570943</td>\n",
       "      <td>0.015762</td>\n",
       "      <td>-1.448819</td>\n",
       "      <td>1.821169</td>\n",
       "      <td>-0.776737</td>\n",
       "      <td>-0.237862</td>\n",
       "      <td>-1.131068</td>\n",
       "      <td>1.535688</td>\n",
       "      <td>-0.569710</td>\n",
       "      <td>-0.376354</td>\n",
       "      <td>-1.395430</td>\n",
       "      <td>-0.483853</td>\n",
       "      <td>-1.401924</td>\n",
       "      <td>-1.399702</td>\n",
       "      <td>-0.496609</td>\n",
       "      <td>-0.455196</td>\n",
       "      <td>-1.402111</td>\n",
       "      <td>1.391803</td>\n",
       "      <td>-0.432450</td>\n",
       "      <td>0.472744</td>\n",
       "      <td>0.497988</td>\n",
       "      <td>1.424712</td>\n",
       "      <td>0.453914</td>\n",
       "      <td>-0.464630</td>\n",
       "      <td>0.513026</td>\n",
       "      <td>1.383572</td>\n",
       "      <td>-0.452656</td>\n",
       "      <td>-0.400135</td>\n",
       "      <td>-0.458416</td>\n",
       "      <td>-0.417566</td>\n",
       "      <td>-1.392249</td>\n",
       "    </tr>\n",
       "    <tr>\n",
       "      <th>1</th>\n",
       "      <td>0.459203</td>\n",
       "      <td>0.433082</td>\n",
       "      <td>1.360021</td>\n",
       "      <td>-0.470994</td>\n",
       "      <td>-1.431156</td>\n",
       "      <td>-0.448281</td>\n",
       "      <td>-0.495689</td>\n",
       "      <td>1.322008</td>\n",
       "      <td>0.396645</td>\n",
       "      <td>-0.509943</td>\n",
       "      <td>-0.530114</td>\n",
       "      <td>-0.500168</td>\n",
       "      <td>-1.369434</td>\n",
       "      <td>-0.549950</td>\n",
       "      <td>1.253160</td>\n",
       "      <td>1.232002</td>\n",
       "      <td>0.325434</td>\n",
       "      <td>-0.599369</td>\n",
       "      <td>-1.475822</td>\n",
       "      <td>-0.598913</td>\n",
       "      <td>-1.437523</td>\n",
       "      <td>0.346607</td>\n",
       "      <td>0.307396</td>\n",
       "      <td>-1.488629</td>\n",
       "      <td>-0.600319</td>\n",
       "      <td>0.496979</td>\n",
       "      <td>0.392304</td>\n",
       "      <td>1.749605</td>\n",
       "      <td>-0.318134</td>\n",
       "      <td>-1.360333</td>\n",
       "      <td>0.082831</td>\n",
       "      <td>0.675396</td>\n",
       "      <td>-1.131068</td>\n",
       "      <td>-1.391967</td>\n",
       "      <td>0.324910</td>\n",
       "      <td>-1.292259</td>\n",
       "      <td>1.360356</td>\n",
       "      <td>-0.483853</td>\n",
       "      <td>-0.477671</td>\n",
       "      <td>1.376149</td>\n",
       "      <td>-0.496609</td>\n",
       "      <td>-1.391112</td>\n",
       "      <td>-1.402111</td>\n",
       "      <td>-1.357643</td>\n",
       "      <td>0.493928</td>\n",
       "      <td>0.472744</td>\n",
       "      <td>0.497988</td>\n",
       "      <td>0.490475</td>\n",
       "      <td>-1.356803</td>\n",
       "      <td>1.404083</td>\n",
       "      <td>0.513026</td>\n",
       "      <td>1.383572</td>\n",
       "      <td>1.424521</td>\n",
       "      <td>1.435731</td>\n",
       "      <td>-1.374415</td>\n",
       "      <td>0.497419</td>\n",
       "      <td>1.369651</td>\n",
       "    </tr>\n",
       "    <tr>\n",
       "      <th>2</th>\n",
       "      <td>1.365253</td>\n",
       "      <td>-1.408039</td>\n",
       "      <td>1.360021</td>\n",
       "      <td>1.317075</td>\n",
       "      <td>1.342890</td>\n",
       "      <td>1.371309</td>\n",
       "      <td>-1.396943</td>\n",
       "      <td>-1.396986</td>\n",
       "      <td>-0.491065</td>\n",
       "      <td>-1.412496</td>\n",
       "      <td>1.318143</td>\n",
       "      <td>-0.500168</td>\n",
       "      <td>-0.476237</td>\n",
       "      <td>-1.481351</td>\n",
       "      <td>0.343575</td>\n",
       "      <td>1.232002</td>\n",
       "      <td>-0.572878</td>\n",
       "      <td>-0.599369</td>\n",
       "      <td>-0.583351</td>\n",
       "      <td>-1.505108</td>\n",
       "      <td>-1.437523</td>\n",
       "      <td>-1.477642</td>\n",
       "      <td>-1.530297</td>\n",
       "      <td>-1.488629</td>\n",
       "      <td>0.295072</td>\n",
       "      <td>-1.346787</td>\n",
       "      <td>1.355552</td>\n",
       "      <td>0.882684</td>\n",
       "      <td>-1.448819</td>\n",
       "      <td>-1.360333</td>\n",
       "      <td>0.082831</td>\n",
       "      <td>1.588655</td>\n",
       "      <td>0.627483</td>\n",
       "      <td>0.559803</td>\n",
       "      <td>1.219529</td>\n",
       "      <td>-0.376354</td>\n",
       "      <td>-1.395430</td>\n",
       "      <td>-1.404680</td>\n",
       "      <td>-0.477671</td>\n",
       "      <td>1.376149</td>\n",
       "      <td>1.367795</td>\n",
       "      <td>-1.391112</td>\n",
       "      <td>-0.485426</td>\n",
       "      <td>-1.357643</td>\n",
       "      <td>-1.358828</td>\n",
       "      <td>-1.361537</td>\n",
       "      <td>1.414020</td>\n",
       "      <td>-1.378000</td>\n",
       "      <td>-1.356803</td>\n",
       "      <td>-0.464630</td>\n",
       "      <td>-1.316240</td>\n",
       "      <td>-1.376046</td>\n",
       "      <td>1.424521</td>\n",
       "      <td>-0.400135</td>\n",
       "      <td>-0.458416</td>\n",
       "      <td>1.412405</td>\n",
       "      <td>1.369651</td>\n",
       "    </tr>\n",
       "    <tr>\n",
       "      <th>3</th>\n",
       "      <td>-1.352898</td>\n",
       "      <td>1.353642</td>\n",
       "      <td>-1.372441</td>\n",
       "      <td>-1.365028</td>\n",
       "      <td>0.418208</td>\n",
       "      <td>0.461514</td>\n",
       "      <td>1.306817</td>\n",
       "      <td>1.322008</td>\n",
       "      <td>0.396645</td>\n",
       "      <td>1.295164</td>\n",
       "      <td>-0.530114</td>\n",
       "      <td>0.400298</td>\n",
       "      <td>1.310158</td>\n",
       "      <td>-0.549950</td>\n",
       "      <td>-0.566010</td>\n",
       "      <td>0.326118</td>\n",
       "      <td>0.325434</td>\n",
       "      <td>0.311904</td>\n",
       "      <td>0.309119</td>\n",
       "      <td>1.213478</td>\n",
       "      <td>0.364500</td>\n",
       "      <td>1.258732</td>\n",
       "      <td>-0.611451</td>\n",
       "      <td>0.332324</td>\n",
       "      <td>0.295072</td>\n",
       "      <td>1.418861</td>\n",
       "      <td>1.355552</td>\n",
       "      <td>-0.851159</td>\n",
       "      <td>-0.318134</td>\n",
       "      <td>-0.299832</td>\n",
       "      <td>-1.636305</td>\n",
       "      <td>-1.151121</td>\n",
       "      <td>1.506759</td>\n",
       "      <td>0.559803</td>\n",
       "      <td>-1.464329</td>\n",
       "      <td>1.455456</td>\n",
       "      <td>1.360356</td>\n",
       "      <td>1.357802</td>\n",
       "      <td>1.370835</td>\n",
       "      <td>1.376149</td>\n",
       "      <td>-1.428812</td>\n",
       "      <td>-1.391112</td>\n",
       "      <td>1.347943</td>\n",
       "      <td>-1.357643</td>\n",
       "      <td>-1.358828</td>\n",
       "      <td>1.389885</td>\n",
       "      <td>-0.418044</td>\n",
       "      <td>-0.443763</td>\n",
       "      <td>-1.356803</td>\n",
       "      <td>0.469726</td>\n",
       "      <td>0.513026</td>\n",
       "      <td>1.383572</td>\n",
       "      <td>-1.391244</td>\n",
       "      <td>0.517798</td>\n",
       "      <td>0.457583</td>\n",
       "      <td>1.412405</td>\n",
       "      <td>-0.471615</td>\n",
       "    </tr>\n",
       "    <tr>\n",
       "      <th>4</th>\n",
       "      <td>0.459203</td>\n",
       "      <td>1.353642</td>\n",
       "      <td>1.360021</td>\n",
       "      <td>0.423041</td>\n",
       "      <td>-1.431156</td>\n",
       "      <td>-1.358075</td>\n",
       "      <td>1.306817</td>\n",
       "      <td>1.322008</td>\n",
       "      <td>1.284354</td>\n",
       "      <td>-1.412496</td>\n",
       "      <td>-1.454242</td>\n",
       "      <td>0.400298</td>\n",
       "      <td>1.310158</td>\n",
       "      <td>1.312852</td>\n",
       "      <td>1.253160</td>\n",
       "      <td>0.326118</td>\n",
       "      <td>-1.471189</td>\n",
       "      <td>0.311904</td>\n",
       "      <td>-1.475822</td>\n",
       "      <td>1.213478</td>\n",
       "      <td>1.265512</td>\n",
       "      <td>1.258732</td>\n",
       "      <td>0.307396</td>\n",
       "      <td>1.242800</td>\n",
       "      <td>1.190464</td>\n",
       "      <td>1.418861</td>\n",
       "      <td>0.392304</td>\n",
       "      <td>-0.851159</td>\n",
       "      <td>-0.318134</td>\n",
       "      <td>-0.299832</td>\n",
       "      <td>-1.636305</td>\n",
       "      <td>-1.151121</td>\n",
       "      <td>1.506759</td>\n",
       "      <td>-1.391967</td>\n",
       "      <td>-1.464329</td>\n",
       "      <td>0.539551</td>\n",
       "      <td>-1.395430</td>\n",
       "      <td>1.357802</td>\n",
       "      <td>1.370835</td>\n",
       "      <td>-0.474418</td>\n",
       "      <td>0.435593</td>\n",
       "      <td>0.480721</td>\n",
       "      <td>-1.402111</td>\n",
       "      <td>-1.357643</td>\n",
       "      <td>-1.358828</td>\n",
       "      <td>0.472744</td>\n",
       "      <td>-0.418044</td>\n",
       "      <td>1.424712</td>\n",
       "      <td>0.453914</td>\n",
       "      <td>-1.398986</td>\n",
       "      <td>0.513026</td>\n",
       "      <td>-0.456173</td>\n",
       "      <td>-1.391244</td>\n",
       "      <td>1.435731</td>\n",
       "      <td>-0.458416</td>\n",
       "      <td>-1.332552</td>\n",
       "      <td>-1.392249</td>\n",
       "    </tr>\n",
       "  </tbody>\n",
       "</table>\n",
       "</div>"
      ],
      "text/plain": [
       "         0         1         2         3         4         5         6   \\\n",
       "0 -1.352898 -0.487479 -1.372441 -0.470994 -1.431156 -0.448281  0.405564   \n",
       "1  0.459203  0.433082  1.360021 -0.470994 -1.431156 -0.448281 -0.495689   \n",
       "2  1.365253 -1.408039  1.360021  1.317075  1.342890  1.371309 -1.396943   \n",
       "3 -1.352898  1.353642 -1.372441 -1.365028  0.418208  0.461514  1.306817   \n",
       "4  0.459203  1.353642  1.360021  0.423041 -1.431156 -1.358075  1.306817   \n",
       "\n",
       "         7         8         9         10        11        12        13  \\\n",
       "0  0.415676  0.396645  0.392611 -1.454242 -0.500168 -1.369434  0.381451   \n",
       "1  1.322008  0.396645 -0.509943 -0.530114 -0.500168 -1.369434 -0.549950   \n",
       "2 -1.396986 -0.491065 -1.412496  1.318143 -0.500168 -0.476237 -1.481351   \n",
       "3  1.322008  0.396645  1.295164 -0.530114  0.400298  1.310158 -0.549950   \n",
       "4  1.322008  1.284354 -1.412496 -1.454242  0.400298  1.310158  1.312852   \n",
       "\n",
       "         14        15        16        17        18        19        20  \\\n",
       "0  1.253160 -0.579766 -1.471189 -0.599369 -0.583351 -0.598913 -1.437523   \n",
       "1  1.253160  1.232002  0.325434 -0.599369 -1.475822 -0.598913 -1.437523   \n",
       "2  0.343575  1.232002 -0.572878 -0.599369 -0.583351 -1.505108 -1.437523   \n",
       "3 -0.566010  0.326118  0.325434  0.311904  0.309119  1.213478  0.364500   \n",
       "4  1.253160  0.326118 -1.471189  0.311904 -1.475822  1.213478  1.265512   \n",
       "\n",
       "         21        22        23        24        25        26        27  \\\n",
       "0 -1.477642 -0.611451  0.332324 -1.495711  1.418861 -0.570943  0.015762   \n",
       "1  0.346607  0.307396 -1.488629 -0.600319  0.496979  0.392304  1.749605   \n",
       "2 -1.477642 -1.530297 -1.488629  0.295072 -1.346787  1.355552  0.882684   \n",
       "3  1.258732 -0.611451  0.332324  0.295072  1.418861  1.355552 -0.851159   \n",
       "4  1.258732  0.307396  1.242800  1.190464  1.418861  0.392304 -0.851159   \n",
       "\n",
       "         28        29        30        31        32        33        34  \\\n",
       "0 -1.448819  1.821169 -0.776737 -0.237862 -1.131068  1.535688 -0.569710   \n",
       "1 -0.318134 -1.360333  0.082831  0.675396 -1.131068 -1.391967  0.324910   \n",
       "2 -1.448819 -1.360333  0.082831  1.588655  0.627483  0.559803  1.219529   \n",
       "3 -0.318134 -0.299832 -1.636305 -1.151121  1.506759  0.559803 -1.464329   \n",
       "4 -0.318134 -0.299832 -1.636305 -1.151121  1.506759 -1.391967 -1.464329   \n",
       "\n",
       "         35        36        37        38        39        40        41  \\\n",
       "0 -0.376354 -1.395430 -0.483853 -1.401924 -1.399702 -0.496609 -0.455196   \n",
       "1 -1.292259  1.360356 -0.483853 -0.477671  1.376149 -0.496609 -1.391112   \n",
       "2 -0.376354 -1.395430 -1.404680 -0.477671  1.376149  1.367795 -1.391112   \n",
       "3  1.455456  1.360356  1.357802  1.370835  1.376149 -1.428812 -1.391112   \n",
       "4  0.539551 -1.395430  1.357802  1.370835 -0.474418  0.435593  0.480721   \n",
       "\n",
       "         42        43        44        45        46        47        48  \\\n",
       "0 -1.402111  1.391803 -0.432450  0.472744  0.497988  1.424712  0.453914   \n",
       "1 -1.402111 -1.357643  0.493928  0.472744  0.497988  0.490475 -1.356803   \n",
       "2 -0.485426 -1.357643 -1.358828 -1.361537  1.414020 -1.378000 -1.356803   \n",
       "3  1.347943 -1.357643 -1.358828  1.389885 -0.418044 -0.443763 -1.356803   \n",
       "4 -1.402111 -1.357643 -1.358828  0.472744 -0.418044  1.424712  0.453914   \n",
       "\n",
       "         49        50        51        52        53        54        55  \\\n",
       "0 -0.464630  0.513026  1.383572 -0.452656 -0.400135 -0.458416 -0.417566   \n",
       "1  1.404083  0.513026  1.383572  1.424521  1.435731 -1.374415  0.497419   \n",
       "2 -0.464630 -1.316240 -1.376046  1.424521 -0.400135 -0.458416  1.412405   \n",
       "3  0.469726  0.513026  1.383572 -1.391244  0.517798  0.457583  1.412405   \n",
       "4 -1.398986  0.513026 -0.456173 -1.391244  1.435731 -0.458416 -1.332552   \n",
       "\n",
       "         56  \n",
       "0 -1.392249  \n",
       "1  1.369651  \n",
       "2  1.369651  \n",
       "3 -0.471615  \n",
       "4 -1.392249  "
      ]
     },
     "execution_count": 13,
     "metadata": {},
     "output_type": "execute_result"
    }
   ],
   "source": [
    "# # Z-score normalized values\n",
    "normalized_df = df2.iloc[:,:-1]\n",
    "std_scale = preprocessing.StandardScaler().fit(normalized_df)\n",
    "df_std = std_scale.transform(normalized_df)\n",
    "df_zscore = pd.DataFrame(df_std)\n",
    "df_zscore.columns =  normalized_df.columns\n",
    "df_zscore.head()"
   ]
  },
  {
   "cell_type": "markdown",
   "metadata": {},
   "source": [
    "# 2.Parameter Selection: "
   ]
  },
  {
   "cell_type": "markdown",
   "metadata": {},
   "source": [
    "# a) K-NN"
   ]
  },
  {
   "cell_type": "code",
   "execution_count": 14,
   "metadata": {},
   "outputs": [
    {
     "name": "stdout",
     "output_type": "stream",
     "text": [
      "For k= 1, Accuracies: [0.69902913 0.69480519 0.69155844 0.72077922 0.72312704]\n",
      "For k= 3, Accuracies: [0.70226537 0.73376623 0.70779221 0.73701299 0.71661238]\n",
      "For k= 5, Accuracies: [0.72815534 0.73376623 0.75       0.72402597 0.71009772]\n",
      "For k= 7, Accuracies: [0.73786408 0.74675325 0.72727273 0.73051948 0.70032573]\n",
      "For k= 31, Accuracies: [0.69902913 0.74350649 0.70454545 0.73376623 0.71009772]\n",
      "\n",
      "\n",
      "Mean of accuracy scores: [0.7058598038374136, 0.7194898357179752, 0.729209053493548, 0.728547053022876, 0.7181890055802962]\n",
      "\n",
      "\n",
      "Length of list 5\n",
      "Max of list 0.729209053493548\n"
     ]
    },
    {
     "data": {
      "text/plain": [
       "Text(0, 0.5, 'Cross-validated accuracy')"
      ]
     },
     "execution_count": 14,
     "metadata": {},
     "output_type": "execute_result"
    },
    {
     "data": {
      "image/png": "[encoded data removed]",
      "text/plain": [
       "<Figure size 432x288 with 1 Axes>"
      ]
     },
     "metadata": {
      "needs_background": "light"
     },
     "output_type": "display_data"
    }
   ],
   "source": [
    "X = df_zscore.loc[:,]\n",
    "y = df2[57]\n",
    "X_train, X_test, y_train, y_test = train_test_split(X,y, test_size=0.30,random_state=42)\n",
    "\n",
    "# 5-fold cross-validation with k = [1, 3, 5, 7, 31] for KNN (the n_neighbors parameter)\n",
    "k = [1, 3, 5, 7, 31]\n",
    "k_scores = []\n",
    "\n",
    "for i in k:\n",
    "    knn = KNeighborsClassifier(n_neighbors=i)\n",
    "    scores = cross_val_score(knn, X_train, y_train, cv=5, scoring='accuracy')\n",
    "    k_scores.append(scores.mean())\n",
    "    print(\"For k= {}, Accuracies: {}\".format(i, scores))\n",
    "    \n",
    "\n",
    "print('\\n')\n",
    "print('Mean of accuracy scores:', k_scores)\n",
    "print('\\n')\n",
    "print('Length of list', len(k_scores))\n",
    "print('Max of list', max(k_scores))\n",
    "\n",
    "plt.plot(k, k_scores)\n",
    "plt.xlabel('Value of K for KNN')\n",
    "plt.ylabel('Cross-validated accuracy')\n",
    "\n",
    "#ref: https://www.ritchieng.com/machine-learning-cross-validation/"
   ]
  },
  {
   "cell_type": "markdown",
   "metadata": {},
   "source": [
    "# b) SVM (RBF Kernel)"
   ]
  },
  {
   "cell_type": "code",
   "execution_count": null,
   "metadata": {},
   "outputs": [],
   "source": [
    "# # 5-fold cross-validation for SVM\n",
    "# c = [0.1, 0.5, 1, 2, 5,10, 20, 50]\n",
    "# sigma = [0.01, 0.05, 0.1, 0.5, 1, 2, 5, 10]\n",
    "# svm_scores = []\n",
    "\n",
    "# for i,j in zip(c,sigma):\n",
    "#     svm_clf = SVC(kernel='rbf',C = i, gamma=j)\n",
    "#     scores = cross_val_score(svm, X_train, y_train, cv=5, scoring='accuracy')\n",
    "#     svm_scores.append(scores.mean())\n",
    "# #     print(\"scores = {}\".format(scores))\n",
    "# #     print(\"Maan scores = {}\".format(scores.mean()))\n",
    "    \n",
    "\n",
    "# print('\\n')\n",
    "# print('Mean of accuracy scores:', svm_scores)\n",
    "# print('\\n')\n",
    "# print('Length of list', len(svm_scores))\n",
    "# print('Max of list', max(svm_scores))\n",
    "\n",
    "# plt.plot(k, k_scores)\n",
    "# plt.xlabel('Value of K for KNN')\n",
    "# plt.ylabel('Cross-validated accuracy')\n"
   ]
  },
  {
   "cell_type": "code",
   "execution_count": 15,
   "metadata": {},
   "outputs": [
    {
     "data": {
      "text/plain": [
       "{'C': 10, 'gamma': 0.01}"
      ]
     },
     "execution_count": 15,
     "metadata": {},
     "output_type": "execute_result"
    }
   ],
   "source": [
    "model = SVC()\n",
    "param_grid = {'C': [0.1, 0.5, 1, 2, 5,10, 20, 50], 'gamma': [0.01, 0.05, 0.1, 0.5, 1, 2, 5, 10]}\n",
    "grid = GridSearchCV(SVC(kernel='rbf'),param_grid,cv=5,refit=True)\n",
    "grid.fit(X_train,y_train)\n",
    "grid.best_params_"
   ]
  },
  {
   "cell_type": "code",
   "execution_count": 27,
   "metadata": {},
   "outputs": [
    {
     "data": {
      "image/png": "[encoded data removed]",
      "text/plain": [
       "<Figure size 432x288 with 1 Axes>"
      ]
     },
     "metadata": {
      "needs_background": "light"
     },
     "output_type": "display_data"
    }
   ],
   "source": [
    "#SVM GATHER DATA\n",
    "rbf_svc = SVC(kernel='rbf', gamma=0.01, C=10,probability=True).fit(X_train,y_train)\n",
    "\n",
    "#PREDICT PROBABILITY SCORE = 2D ARRAY FOR EACH PREDICTION\n",
    "predictedprobSVC = rbf_svc.predict_proba(X_test)\n",
    "\n",
    "#GET ROC DATA\n",
    "fpr, tpr, thresholds = roc_curve(y_test, predictedprobSVC[:,1])\n",
    "roc_auc = auc(fpr, tpr)\n",
    "\n",
    "#GRAPH DATA\n",
    "plt.figure()\n",
    "plt.xlabel('False Positive Rate')\n",
    "plt.ylabel('True Positive Rate')\n",
    "plt.plot([0, 1], [0, 1], color='navy', linestyle='--')\n",
    "#plt.xlim([0.0, 1.0]\n",
    "#plt.ylim([0.0, 1.05])\n",
    "plt.title('SVM Classifier ROC')\n",
    "plt.plot(fpr, tpr, color='blue', lw=2, label='SVM ROC area = %0.2f)' % roc_auc)\n",
    "plt.legend(loc=\"lower right\")\n",
    "plt.show()\n",
    "\n",
    "#ref :https://medium.com/datadriveninvestor/computing-an-roc-graph-with-python-a3aa20b9a3fb"
   ]
  },
  {
   "cell_type": "code",
   "execution_count": null,
   "metadata": {},
   "outputs": [],
   "source": []
  }
 ],
 "metadata": {
  "kernelspec": {
   "display_name": "Python 3",
   "language": "python",
   "name": "python3"
  },
  "language_info": {
   "codemirror_mode": {
    "name": "ipython",
    "version": 3
   },
   "file_extension": ".py",
   "mimetype": "text/x-python",
   "name": "python",
   "nbconvert_exporter": "python",
   "pygments_lexer": "ipython3",
   "version": "3.7.1"
  }
 },
 "nbformat": 4,
 "nbformat_minor": 2
}
