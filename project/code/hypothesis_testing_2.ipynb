{
 "cells": [
  {
   "cell_type": "code",
   "execution_count": 7,
   "metadata": {
    "scrolled": true
   },
   "outputs": [],
   "source": [
    "from model_utils import *\n",
    "from sklearn.utils import resample\n",
    "import pandas as pd\n",
    "from sklearn.model_selection import (\n",
    "    train_test_split,\n",
    "    GridSearchCV,\n",
    "    cross_val_score,\n",
    "    validation_curve,\n",
    ")\n",
    "from sklearn import preprocessing\n",
    "# import scikitplot as skplt"
   ]
  },
  {
   "cell_type": "markdown",
   "metadata": {},
   "source": [
    "## Import Data\n",
    "### Data used for preliminary results are downsampled and balanced"
   ]
  },
  {
   "cell_type": "code",
   "execution_count": 5,
   "metadata": {},
   "outputs": [],
   "source": [
    "# import dataset\n",
    "test_data = \"dataset/test.csv\"\n",
    "df_test = pd.read_csv(test_data, sep=\",\", index_col=\"ID_code\")\n",
    "\n",
    "train_data = \"dataset/train.csv\"\n",
    "df_train = pd.read_csv(train_data, sep=\",\", index_col=\"ID_code\")\n",
    "\n",
    "# Separate majority and minority classes\n",
    "df2_majority = df_train[df_train[\"target\"] == 0]\n",
    "df2_minority = df_train[df_train[\"target\"] == 1]\n",
    "n_samples = df2_minority.target.sum()\n",
    "\n",
    "df2_majority_downsampled = resample(\n",
    "   df2_majority, replace=False, n_samples=n_samples, random_state=99\n",
    ")\n",
    "df_downsampled = pd.concat([df2_majority_downsampled, df2_minority])\n",
    "X_dn = df_downsampled.drop([\"target\"], axis=1)\n",
    "y_dn = df_downsampled[\"target\"]\n",
    "\n",
    "# calculatig the z-score normalization using sklearn\n",
    "std_scale = preprocessing.StandardScaler().fit(df_train.drop([\"target\"], axis=1).values)\n",
    "X_dn_norm = std_scale.transform(X_dn)\n",
    "\n",
    "#use all downsamples samples (40 000)\n",
    "X_train, X_test, y_train, y_test = train_test_split(X_dn_norm, y_dn, test_size=0.2, random_state=101)\n",
    "\n",
    "#reduce size of for cbomputationally intensive algorithms\n",
    "X_trainsmall, _, y_trainsmall, _ = train_test_split(X_train, y_train, test_size=0.8756096, random_state=101)"
   ]
  },
  {
   "cell_type": "markdown",
   "metadata": {},
   "source": [
    "## Create Models using default Parameters"
   ]
  },
  {
   "cell_type": "code",
   "execution_count": null,
   "metadata": {},
   "outputs": [],
   "source": [
    "# Logistic Regression\n",
    "from sklearn.linear_model import LogisticRegression\n",
    "\n",
    "logreg_params = {\n",
    "    'C': 0.00010494583820459354, \n",
    "    'solver': 'saga'\n",
    "}\n",
    "clf_logreg = LogisticRegression(random_state=111, penalty='l2', **logreg_params)"
   ]
  },
  {
   "cell_type": "code",
   "execution_count": null,
   "metadata": {},
   "outputs": [],
   "source": [
    "# Naive Bayes\n",
    "from sklearn.naive_bayes import GaussianNB\n",
    "\n",
    "NB_params = {\n",
    "    'var_smoothing': 7.453943540948982e-11\n",
    "}\n",
    "clf_NB = GaussianNB(**NB_params)"
   ]
  },
  {
   "cell_type": "code",
   "execution_count": null,
   "metadata": {},
   "outputs": [],
   "source": [
    "# XGBoost\n",
    "import xgboost as xgb\n",
    "\n",
    "xgb_params = {\n",
    "    'colsample_bylevel': 0.01, \n",
    "    'colsample_bytree': 1.0,\n",
    "    'gamma': 0.49999999999999994,\n",
    "    'max_delta_step': 0,\n",
    "    'max_depth': 8,\n",
    "    'min_child_weight': 19,\n",
    "    'reg_alpha': 1.0,\n",
    "    'reg_lambda': 1000.0,\n",
    "    'scale_pos_weight': 0.3237122916966163,\n",
    "    'subsample': 1.0,\n",
    "}\n",
    "\n",
    "clf_xgb = xgb.XGBClassifier(\n",
    "        objective=\"binary:logistic\",\n",
    "        eval_metric=\"auc\",\n",
    "        learning_rate=0.1,\n",
    "        silent=1,\n",
    "        early_stopping=200,\n",
    "        n_estimators=8000,\n",
    "        tree_method=\"approx\",\n",
    "        n_jobs=-1\n",
    "        **xgb_params,\n",
    "    )\n"
   ]
  },
  {
   "cell_type": "code",
   "execution_count": 14,
   "metadata": {},
   "outputs": [],
   "source": [
    "# LightGBM\n",
    "import lightgbm as lgb\n",
    "\n",
    "# lgb_params = {\n",
    "#     'colsample_bylevel': 0.5447321073292221,\n",
    "#     'colsample_bytree': 0.689559548843798,\n",
    "#     'gamma': 0.01,\n",
    "#     'max_bin': 426,\n",
    "#     'max_delta_step': 13,\n",
    "#     'max_depth': 12,\n",
    "#     'min_child_samples': 22,\n",
    "#     'min_child_weight': 20,\n",
    "#     'reg_alpha': 0.7966900476208586,\n",
    "#     'reg_lambda': 0.05905416598434505,\n",
    "#     'scale_pos_weight': 0.23497655517415514,\n",
    "#     'subsample': 0.9183687205758093,\n",
    "#     'subsample_for_bin': 492045,\n",
    "#     'subsample_freq': 3,\n",
    "# }\n",
    "\n",
    "lgb_params = {\n",
    "        'num_leaves': 10,\n",
    "        'max_bin': 119,\n",
    "        'min_data_in_leaf': 11,\n",
    "        'learning_rate': 0.02,\n",
    "        'min_sum_hessian_in_leaf': 0.00245,\n",
    "        'bagging_fraction': 1.0, \n",
    "        'bagging_freq': 5, \n",
    "        'feature_fraction': 0.05,\n",
    "        'lambda_l1': 4.972,\n",
    "        'lambda_l2': 2.276,\n",
    "        'min_gain_to_split': 0.65,\n",
    "        'max_depth': 14,\n",
    "        'save_binary': True,\n",
    "        'seed': 1337,\n",
    "        'feature_fraction_seed': 1337,\n",
    "        'bagging_seed': 1337,\n",
    "        'drop_seed': 1337,\n",
    "        'data_random_seed': 1337,\n",
    "        'objective': 'binary',\n",
    "        'boosting_type': 'gbdt',\n",
    "        'verbose': 1,\n",
    "        'metric': 'auc',\n",
    "        'is_unbalance': True,\n",
    "        'boost_from_average': False,\n",
    "    }\n",
    "\n",
    "clf_lgb = lgb.LGBMClassifier(\n",
    "        n_jobs=-1,\n",
    "        **lgb_params,\n",
    "    )\n"
   ]
  },
  {
   "cell_type": "markdown",
   "metadata": {},
   "source": [
    "## Train and Benchmark All Models"
   ]
  },
  {
   "cell_type": "markdown",
   "metadata": {},
   "source": [
    "### Logistic Regression"
   ]
  },
  {
   "cell_type": "code",
   "execution_count": null,
   "metadata": {},
   "outputs": [],
   "source": [
    "# Benchmark Logistic Regression\n",
    "\n",
    "model_logreg = clf_logreg.fit(X_train, y_train)"
   ]
  },
  {
   "cell_type": "code",
   "execution_count": null,
   "metadata": {},
   "outputs": [],
   "source": [
    "stats_fig, report = benchmark_model_performance(model_logreg, X_test, y_test)\n",
    "stats_fig.savefig(os.path.join('experiment1-logisticregression.png'), dpi=300, format='png')\n",
    "stats_fig.show()"
   ]
  },
  {
   "cell_type": "markdown",
   "metadata": {},
   "source": [
    "### Naive Bayes"
   ]
  },
  {
   "cell_type": "code",
   "execution_count": null,
   "metadata": {},
   "outputs": [],
   "source": [
    "# Benchmark Logistic Regression\n",
    "\n",
    "model_NB = clf_NB.fit(X_train, y_train)"
   ]
  },
  {
   "cell_type": "code",
   "execution_count": null,
   "metadata": {},
   "outputs": [],
   "source": [
    "stats_fig, report = benchmark_model_performance(model_NB, X_test, y_test)\n",
    "stats_fig.savefig(os.path.join('experiment1-naivebayes.png'), dpi=300, format='png')\n",
    "stats_fig.show()"
   ]
  },
  {
   "cell_type": "markdown",
   "metadata": {},
   "source": [
    "### XGBoost"
   ]
  },
  {
   "cell_type": "code",
   "execution_count": null,
   "metadata": {},
   "outputs": [],
   "source": [
    "# Benchmark Logistic Regression\n",
    "\n",
    "model_xgb = clf_NB.fit(X_train, y_train)"
   ]
  },
  {
   "cell_type": "code",
   "execution_count": null,
   "metadata": {},
   "outputs": [],
   "source": [
    "stats_fig, report = benchmark_model_performance(model_xgb, X_test, y_test)\n",
    "stats_fig.savefig(os.path.join('experiment1-xgb.png'), dpi=300, format='png')\n",
    "stats_fig.show()"
   ]
  },
  {
   "cell_type": "markdown",
   "metadata": {},
   "source": [
    "### Light GBM"
   ]
  },
  {
   "cell_type": "code",
   "execution_count": 15,
   "metadata": {},
   "outputs": [],
   "source": [
    "# Benchmark Logistic Regression\n",
    "\n",
    "model_lgb = clf_lgb.fit(X_train, y_train)"
   ]
  },
  {
   "cell_type": "code",
   "execution_count": 17,
   "metadata": {},
   "outputs": [
    {
     "name": "stderr",
     "output_type": "stream",
     "text": [
      "/Users/ammarahmed/Desktop/anaconda3/lib/python3.7/site-packages/matplotlib/figure.py:445: UserWarning: Matplotlib is currently using module://ipykernel.pylab.backend_inline, which is a non-GUI backend, so cannot show the figure.\n",
      "  % get_backend())\n"
     ]
    },
    {
     "data": {
      "image/png": "[encoded data removed]",
      "text/plain": [
       "<Figure size 432x720 with 3 Axes>"
      ]
     },
     "metadata": {
      "needs_background": "light"
     },
     "output_type": "display_data"
    }
   ],
   "source": [
    "stats_fig, report = benchmark_model_performance(model_lgb, X_test, y_test)\n",
    "stats_fig.savefig(os.path.join('experiment2-lgb.png'), dpi=300, format='png')\n",
    "stats_fig.show()"
   ]
  },
  {
   "cell_type": "code",
   "execution_count": null,
   "metadata": {},
   "outputs": [],
   "source": []
  },
  {
   "cell_type": "code",
   "execution_count": null,
   "metadata": {},
   "outputs": [],
   "source": []
  },
  {
   "cell_type": "markdown",
   "metadata": {},
   "source": [
    " "
   ]
  },
  {
   "cell_type": "code",
   "execution_count": 8,
   "metadata": {},
   "outputs": [],
   "source": []
  },
  {
   "cell_type": "code",
   "execution_count": 12,
   "metadata": {},
   "outputs": [],
   "source": []
  },
  {
   "cell_type": "code",
   "execution_count": 10,
   "metadata": {},
   "outputs": [],
   "source": []
  },
  {
   "cell_type": "code",
   "execution_count": null,
   "metadata": {},
   "outputs": [],
   "source": []
  },
  {
   "cell_type": "code",
   "execution_count": null,
   "metadata": {},
   "outputs": [],
   "source": []
  },
  {
   "cell_type": "code",
   "execution_count": null,
   "metadata": {},
   "outputs": [],
   "source": []
  },
  {
   "cell_type": "code",
   "execution_count": null,
   "metadata": {},
   "outputs": [],
   "source": []
  }
 ],
 "metadata": {
  "kernelspec": {
   "display_name": "Python 3",
   "language": "python",
   "name": "python3"
  },
  "language_info": {
   "codemirror_mode": {
    "name": "ipython",
    "version": 3
   },
   "file_extension": ".py",
   "mimetype": "text/x-python",
   "name": "python",
   "nbconvert_exporter": "python",
   "pygments_lexer": "ipython3",
   "version": "3.7.1"
  }
 },
 "nbformat": 4,
 "nbformat_minor": 2
}
