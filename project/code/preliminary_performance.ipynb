{
 "cells": [
  {
   "cell_type": "code",
   "execution_count": 2,
   "metadata": {},
   "outputs": [],
   "source": [
    "from model_utils import *\n",
    "from sklearn.utils import resample\n",
    "import pandas as pd\n",
    "from sklearn.model_selection import (\n",
    "    train_test_split,\n",
    "    GridSearchCV,\n",
    "    cross_val_score,\n",
    "    validation_curve,\n",
    ")\n",
    "from sklearn import preprocessing"
   ]
  },
  {
   "cell_type": "markdown",
   "metadata": {},
   "source": [
    "## Import Data\n",
    "### Data used for preliminary results are downsampled and balanced"
   ]
  },
  {
   "cell_type": "code",
   "execution_count": 3,
   "metadata": {},
   "outputs": [],
   "source": [
    "# import dataset\n",
    "test_data = \"dataset/test.csv\"\n",
    "df_test = pd.read_csv(test_data, sep=\",\", index_col=\"ID_code\")\n",
    "\n",
    "train_data = \"dataset/train.csv\"\n",
    "df_train = pd.read_csv(train_data, sep=\",\", index_col=\"ID_code\")\n",
    "\n",
    "# Separate majority and minority classes\n",
    "df2_majority = df_train[df_train[\"target\"] == 0]\n",
    "df2_minority = df_train[df_train[\"target\"] == 1]\n",
    "n_samples = df2_minority.target.sum()\n",
    "\n",
    "df2_majority_downsampled = resample(\n",
    "   df2_majority, replace=False, n_samples=n_samples, random_state=99\n",
    ")\n",
    "df_downsampled = pd.concat([df2_majority_downsampled, df2_minority])\n",
    "X_dn = df_downsampled.drop([\"target\"], axis=1)\n",
    "y_dn = df_downsampled[\"target\"]\n",
    "\n",
    "# calculatig the z-score normalization using sklearn\n",
    "std_scale = preprocessing.StandardScaler().fit(df_train.drop([\"target\"], axis=1).values)\n",
    "X_dn_norm = std_scale.transform(X_dn)\n",
    "\n",
    "#use all downsamples samples (40 000)\n",
    "X_train, X_test, y_train, y_test = train_test_split(X_dn_norm, y_dn, test_size=0.2, random_state=101)\n",
    "\n",
    "#reduce size of for cbomputationally intensive algorithms\n",
    "X_trainsmall, _, y_trainsmall, _ = train_test_split(X_train, y_train, test_size=0.8756096, random_state=101)"
   ]
  },
  {
   "cell_type": "markdown",
   "metadata": {},
   "source": [
    "## Benchmark Logistic Regression"
   ]
  },
  {
   "cell_type": "code",
   "execution_count": 46,
   "metadata": {},
   "outputs": [
    {
     "name": "stdout",
     "output_type": "stream",
     "text": [
      "Model #1\n",
      " Best f1_macro: 0.7776\n",
      "Best params: {'C': 1.6647174750581703e-05, 'solver': 'saga'}\n",
      "\n",
      "Model #2\n",
      " Best f1_macro: 0.7776\n",
      "Best params: {'C': 1.6647174750581703e-05, 'solver': 'saga'}\n",
      "\n",
      "Model #3\n",
      " Best f1_macro: 0.7784\n",
      "Best params: {'C': 0.00018239062272172374, 'solver': 'sag'}\n",
      "\n",
      "Model #4\n",
      " Best f1_macro: 0.7784\n",
      "Best params: {'C': 0.00018239062272172374, 'solver': 'sag'}\n",
      "\n",
      "Model #5\n",
      " Best f1_macro: 0.7784\n",
      "Best params: {'C': 0.00018239062272172374, 'solver': 'sag'}\n",
      "\n",
      "Model #6\n",
      " Best f1_macro: 0.7784\n",
      "Best params: {'C': 0.00018239062272172374, 'solver': 'sag'}\n",
      "\n",
      "Model #7\n",
      " Best f1_macro: 0.7784\n",
      "Best params: {'C': 0.00018239062272172374, 'solver': 'sag'}\n",
      "\n",
      "Model #8\n",
      " Best f1_macro: 0.7784\n",
      "Best params: {'C': 0.00018239062272172374, 'solver': 'sag'}\n",
      "\n",
      "Model #9\n",
      " Best f1_macro: 0.7784\n",
      "Best params: {'C': 0.00018239062272172374, 'solver': 'sag'}\n",
      "\n",
      "Model #10\n",
      " Best f1_macro: 0.7784\n",
      "Best params: {'C': 0.00018239062272172374, 'solver': 'sag'}\n",
      "\n",
      "Model #11\n",
      " Best f1_macro: 0.7784\n",
      "Best params: {'C': 0.00018239062272172374, 'solver': 'sag'}\n",
      "\n",
      "Model #12\n",
      " Best f1_macro: 0.7784\n",
      "Best params: {'C': 0.00018239062272172374, 'solver': 'sag'}\n",
      "\n",
      "Model #13\n",
      " Best f1_macro: 0.7784\n",
      "Best params: {'C': 0.00018239062272172374, 'solver': 'sag'}\n",
      "\n",
      "Model #14\n",
      " Best f1_macro: 0.7784\n",
      "Best params: {'C': 0.00018239062272172374, 'solver': 'sag'}\n",
      "\n",
      "Model #15\n",
      " Best f1_macro: 0.7784\n",
      "Best params: {'C': 0.00018239062272172374, 'solver': 'sag'}\n",
      "\n"
     ]
    },
    {
     "name": "stderr",
     "output_type": "stream",
     "text": [
      "C:\\Users\\Adam\\Anaconda3\\lib\\site-packages\\skopt\\optimizer\\optimizer.py:399: UserWarning: The objective has been evaluated at this point before.\n",
      "  warnings.warn(\"The objective has been evaluated \"\n"
     ]
    },
    {
     "name": "stdout",
     "output_type": "stream",
     "text": [
      "Model #16\n",
      " Best f1_macro: 0.7784\n",
      "Best params: {'C': 0.00018239062272172374, 'solver': 'sag'}\n",
      "\n",
      "Model #17\n",
      " Best f1_macro: 0.7784\n",
      "Best params: {'C': 0.00018239062272172374, 'solver': 'sag'}\n",
      "\n",
      "Model #18\n",
      " Best f1_macro: 0.7784\n",
      "Best params: {'C': 0.00018239062272172374, 'solver': 'sag'}\n",
      "\n",
      "Model #19\n",
      " Best f1_macro: 0.7784\n",
      "Best params: {'C': 0.00018239062272172374, 'solver': 'sag'}\n",
      "\n",
      "Model #20\n",
      " Best f1_macro: 0.7784\n",
      "Best params: {'C': 0.00018239062272172374, 'solver': 'sag'}\n",
      "\n",
      "Model #21\n",
      " Best f1_macro: 0.7784\n",
      "Best params: {'C': 0.00018239062272172374, 'solver': 'sag'}\n",
      "\n",
      "Model #22\n",
      " Best f1_macro: 0.7784\n",
      "Best params: {'C': 0.00018239062272172374, 'solver': 'sag'}\n",
      "\n",
      "Model #23\n",
      " Best f1_macro: 0.7784\n",
      "Best params: {'C': 0.00018239062272172374, 'solver': 'sag'}\n",
      "\n",
      "Model #24\n",
      " Best f1_macro: 0.7784\n",
      "Best params: {'C': 0.00018239062272172374, 'solver': 'sag'}\n",
      "\n",
      "Model #25\n",
      " Best f1_macro: 0.7784\n",
      "Best params: {'C': 0.00018239062272172374, 'solver': 'sag'}\n",
      "\n",
      "Model #26\n",
      " Best f1_macro: 0.7784\n",
      "Best params: {'C': 0.00018239062272172374, 'solver': 'sag'}\n",
      "\n",
      "Model #27\n",
      " Best f1_macro: 0.7784\n",
      "Best params: {'C': 0.00018239062272172374, 'solver': 'sag'}\n",
      "\n",
      "Model #28\n",
      " Best f1_macro: 0.7784\n",
      "Best params: {'C': 0.00018239062272172374, 'solver': 'sag'}\n",
      "\n",
      "Model #29\n",
      " Best f1_macro: 0.7784\n",
      "Best params: {'C': 0.00018239062272172374, 'solver': 'sag'}\n",
      "\n",
      "Model #30\n",
      " Best f1_macro: 0.7784\n",
      "Best params: {'C': 0.00018239062272172374, 'solver': 'sag'}\n",
      "\n",
      "Model #31\n",
      " Best f1_macro: 0.7784\n",
      "Best params: {'C': 0.00018239062272172374, 'solver': 'sag'}\n",
      "\n",
      "Model #32\n",
      " Best f1_macro: 0.7784\n",
      "Best params: {'C': 0.00018239062272172374, 'solver': 'sag'}\n",
      "\n",
      "Model #33\n",
      " Best f1_macro: 0.7784\n",
      "Best params: {'C': 0.00018239062272172374, 'solver': 'sag'}\n",
      "\n",
      "Model #34\n",
      " Best f1_macro: 0.7784\n",
      "Best params: {'C': 0.00018239062272172374, 'solver': 'sag'}\n",
      "\n",
      "Model #35\n",
      " Best f1_macro: 0.7784\n",
      "Best params: {'C': 0.00018239062272172374, 'solver': 'sag'}\n",
      "\n",
      "Model #36\n",
      " Best f1_macro: 0.7784\n",
      "Best params: {'C': 8.743774637275578e-05, 'solver': 'sag'}\n",
      "\n",
      "Model #37\n",
      " Best f1_macro: 0.7784\n",
      "Best params: {'C': 8.743774637275578e-05, 'solver': 'sag'}\n",
      "\n",
      "Model #38\n",
      " Best f1_macro: 0.7784\n",
      "Best params: {'C': 8.743774637275578e-05, 'solver': 'sag'}\n",
      "\n",
      "Model #39\n",
      " Best f1_macro: 0.7784\n",
      "Best params: {'C': 8.743774637275578e-05, 'solver': 'sag'}\n",
      "\n",
      "Model #40\n",
      " Best f1_macro: 0.7784\n",
      "Best params: {'C': 8.743774637275578e-05, 'solver': 'sag'}\n",
      "\n",
      "Model #41\n",
      " Best f1_macro: 0.7784\n",
      "Best params: {'C': 8.743774637275578e-05, 'solver': 'sag'}\n",
      "\n",
      "Model #42\n",
      " Best f1_macro: 0.7784\n",
      "Best params: {'C': 8.743774637275578e-05, 'solver': 'sag'}\n",
      "\n",
      "Model #43\n",
      " Best f1_macro: 0.7784\n",
      "Best params: {'C': 8.743774637275578e-05, 'solver': 'sag'}\n",
      "\n",
      "Model #44\n",
      " Best f1_macro: 0.7785\n",
      "Best params: {'C': 0.00010494583820459354, 'solver': 'saga'}\n",
      "\n",
      "Model #45\n",
      " Best f1_macro: 0.7785\n",
      "Best params: {'C': 0.00010494583820459354, 'solver': 'saga'}\n",
      "\n",
      "Model #46\n",
      " Best f1_macro: 0.7785\n",
      "Best params: {'C': 0.00010494583820459354, 'solver': 'saga'}\n",
      "\n",
      "Model #47\n",
      " Best f1_macro: 0.7785\n",
      "Best params: {'C': 0.00010494583820459354, 'solver': 'saga'}\n",
      "\n",
      "Model #48\n",
      " Best f1_macro: 0.7785\n",
      "Best params: {'C': 0.00010494583820459354, 'solver': 'saga'}\n",
      "\n",
      "Model #49\n",
      " Best f1_macro: 0.7785\n",
      "Best params: {'C': 0.00010494583820459354, 'solver': 'saga'}\n",
      "\n",
      "Model #50\n",
      " Best f1_macro: 0.7785\n",
      "Best params: {'C': 0.00010494583820459354, 'solver': 'saga'}\n",
      "\n",
      "LogisticRegression(C=0.00010494583820459354, class_weight=None, dual=False,\n",
      "          fit_intercept=True, intercept_scaling=1, max_iter=100,\n",
      "          multi_class='warn', n_jobs=None, penalty='l2', random_state=111,\n",
      "          solver='saga', tol=0.0001, verbose=0, warm_start=False)\n"
     ]
    },
    {
     "name": "stderr",
     "output_type": "stream",
     "text": [
      "C:\\Users\\Adam\\Anaconda3\\lib\\site-packages\\matplotlib\\figure.py:445: UserWarning: Matplotlib is currently using module://ipykernel.pylab.backend_inline, which is a non-GUI backend, so cannot show the figure.\n",
      "  % get_backend())\n"
     ]
    },
    {
     "data": {
      "image/png": "[encoded data removed]",
      "text/plain": [
       "<Figure size 432x720 with 3 Axes>"
      ]
     },
     "metadata": {
      "needs_background": "light"
     },
     "output_type": "display_data"
    }
   ],
   "source": [
    "from sklearn.linear_model import LogisticRegression\n",
    "\n",
    "clf = LogisticRegression(random_state=111, penalty='l2')\n",
    "search_params={\n",
    "    \"C\": (1e-6, 10, \"log-uniform\"),\n",
    "    \"solver\": ('liblinear', 'sag', 'saga'),\n",
    "}\n",
    "\n",
    "cv_obj = cross_validate_model(\n",
    "    X_train,\n",
    "    y_train,\n",
    "    clf,\n",
    "    search_spaces=search_params,\n",
    "    scoring=\"f1_macro\",\n",
    "    n_iter=50,\n",
    "    n_folds=10,\n",
    ")\n",
    "\n",
    "# get the best estimator from cross validation\n",
    "model = cv_obj.best_estimator_\n",
    "model.fit(X_train, y_train)\n",
    "print(model)\n",
    "\n",
    "#    from sklearn.externals import joblib\n",
    "#    # Output a pickle file for the model\n",
    "#    joblib.dump(model, 'saved_model.pkl') \n",
    "#     \n",
    "#    # Load the pickle file\n",
    "#    clf_load = joblib.load('saved_model.pkl')\n",
    "\n",
    "\n",
    "# bench mark the model    \n",
    "stats_fig, report = benchmark_model_performance(model, X_test, y_test)\n",
    "stats_fig.savefig(os.path.join('preliminary-logregression-downsampled_f1score.png'), dpi=300, format='png')\n",
    "stats_fig.show()\n"
   ]
  },
  {
   "cell_type": "markdown",
   "metadata": {},
   "source": [
    "## Benchmark Naive Bayes"
   ]
  },
  {
   "cell_type": "code",
   "execution_count": 45,
   "metadata": {},
   "outputs": [
    {
     "name": "stdout",
     "output_type": "stream",
     "text": [
      "Model #1\n",
      " Best roc_auc: 0.8868\n",
      "Best params: {'var_smoothing': 7.453943540948982e-11}\n",
      "\n",
      "Model #2\n",
      " Best roc_auc: 0.8868\n",
      "Best params: {'var_smoothing': 7.453943540948982e-11}\n",
      "\n",
      "Model #3\n",
      " Best roc_auc: 0.8868\n",
      "Best params: {'var_smoothing': 7.453943540948982e-11}\n",
      "\n",
      "Model #4\n",
      " Best roc_auc: 0.8868\n",
      "Best params: {'var_smoothing': 7.453943540948982e-11}\n",
      "\n",
      "Model #5\n",
      " Best roc_auc: 0.8868\n",
      "Best params: {'var_smoothing': 7.453943540948982e-11}\n",
      "\n",
      "Model #6\n",
      " Best roc_auc: 0.8868\n",
      "Best params: {'var_smoothing': 7.453943540948982e-11}\n",
      "\n",
      "Model #7\n",
      " Best roc_auc: 0.8868\n",
      "Best params: {'var_smoothing': 7.453943540948982e-11}\n",
      "\n",
      "Model #8\n",
      " Best roc_auc: 0.8868\n",
      "Best params: {'var_smoothing': 7.453943540948982e-11}\n",
      "\n",
      "Model #9\n",
      " Best roc_auc: 0.8868\n",
      "Best params: {'var_smoothing': 7.453943540948982e-11}\n",
      "\n",
      "Model #10\n",
      " Best roc_auc: 0.8868\n",
      "Best params: {'var_smoothing': 7.453943540948982e-11}\n",
      "\n",
      "Model #11\n",
      " Best roc_auc: 0.8868\n",
      "Best params: {'var_smoothing': 7.453943540948982e-11}\n",
      "\n"
     ]
    },
    {
     "name": "stderr",
     "output_type": "stream",
     "text": [
      "C:\\Users\\Adam\\Anaconda3\\lib\\site-packages\\skopt\\optimizer\\optimizer.py:399: UserWarning: The objective has been evaluated at this point before.\n",
      "  warnings.warn(\"The objective has been evaluated \"\n"
     ]
    },
    {
     "name": "stdout",
     "output_type": "stream",
     "text": [
      "Model #12\n",
      " Best roc_auc: 0.8868\n",
      "Best params: {'var_smoothing': 7.453943540948982e-11}\n",
      "\n"
     ]
    },
    {
     "name": "stderr",
     "output_type": "stream",
     "text": [
      "C:\\Users\\Adam\\Anaconda3\\lib\\site-packages\\skopt\\optimizer\\optimizer.py:399: UserWarning: The objective has been evaluated at this point before.\n",
      "  warnings.warn(\"The objective has been evaluated \"\n"
     ]
    },
    {
     "name": "stdout",
     "output_type": "stream",
     "text": [
      "Model #13\n",
      " Best roc_auc: 0.8868\n",
      "Best params: {'var_smoothing': 7.453943540948982e-11}\n",
      "\n"
     ]
    },
    {
     "name": "stderr",
     "output_type": "stream",
     "text": [
      "C:\\Users\\Adam\\Anaconda3\\lib\\site-packages\\skopt\\optimizer\\optimizer.py:399: UserWarning: The objective has been evaluated at this point before.\n",
      "  warnings.warn(\"The objective has been evaluated \"\n"
     ]
    },
    {
     "name": "stdout",
     "output_type": "stream",
     "text": [
      "Model #14\n",
      " Best roc_auc: 0.8868\n",
      "Best params: {'var_smoothing': 7.453943540948982e-11}\n",
      "\n"
     ]
    },
    {
     "name": "stderr",
     "output_type": "stream",
     "text": [
      "C:\\Users\\Adam\\Anaconda3\\lib\\site-packages\\skopt\\optimizer\\optimizer.py:399: UserWarning: The objective has been evaluated at this point before.\n",
      "  warnings.warn(\"The objective has been evaluated \"\n"
     ]
    },
    {
     "name": "stdout",
     "output_type": "stream",
     "text": [
      "Model #15\n",
      " Best roc_auc: 0.8868\n",
      "Best params: {'var_smoothing': 7.453943540948982e-11}\n",
      "\n"
     ]
    },
    {
     "name": "stderr",
     "output_type": "stream",
     "text": [
      "C:\\Users\\Adam\\Anaconda3\\lib\\site-packages\\skopt\\optimizer\\optimizer.py:399: UserWarning: The objective has been evaluated at this point before.\n",
      "  warnings.warn(\"The objective has been evaluated \"\n"
     ]
    },
    {
     "name": "stdout",
     "output_type": "stream",
     "text": [
      "Model #16\n",
      " Best roc_auc: 0.8868\n",
      "Best params: {'var_smoothing': 7.453943540948982e-11}\n",
      "\n"
     ]
    },
    {
     "name": "stderr",
     "output_type": "stream",
     "text": [
      "C:\\Users\\Adam\\Anaconda3\\lib\\site-packages\\skopt\\optimizer\\optimizer.py:399: UserWarning: The objective has been evaluated at this point before.\n",
      "  warnings.warn(\"The objective has been evaluated \"\n"
     ]
    },
    {
     "name": "stdout",
     "output_type": "stream",
     "text": [
      "Model #17\n",
      " Best roc_auc: 0.8868\n",
      "Best params: {'var_smoothing': 7.453943540948982e-11}\n",
      "\n"
     ]
    },
    {
     "name": "stderr",
     "output_type": "stream",
     "text": [
      "C:\\Users\\Adam\\Anaconda3\\lib\\site-packages\\skopt\\optimizer\\optimizer.py:399: UserWarning: The objective has been evaluated at this point before.\n",
      "  warnings.warn(\"The objective has been evaluated \"\n"
     ]
    },
    {
     "name": "stdout",
     "output_type": "stream",
     "text": [
      "Model #18\n",
      " Best roc_auc: 0.8868\n",
      "Best params: {'var_smoothing': 7.453943540948982e-11}\n",
      "\n"
     ]
    },
    {
     "name": "stderr",
     "output_type": "stream",
     "text": [
      "C:\\Users\\Adam\\Anaconda3\\lib\\site-packages\\skopt\\optimizer\\optimizer.py:399: UserWarning: The objective has been evaluated at this point before.\n",
      "  warnings.warn(\"The objective has been evaluated \"\n"
     ]
    },
    {
     "name": "stdout",
     "output_type": "stream",
     "text": [
      "Model #19\n",
      " Best roc_auc: 0.8868\n",
      "Best params: {'var_smoothing': 7.453943540948982e-11}\n",
      "\n"
     ]
    },
    {
     "name": "stderr",
     "output_type": "stream",
     "text": [
      "C:\\Users\\Adam\\Anaconda3\\lib\\site-packages\\skopt\\optimizer\\optimizer.py:399: UserWarning: The objective has been evaluated at this point before.\n",
      "  warnings.warn(\"The objective has been evaluated \"\n"
     ]
    },
    {
     "name": "stdout",
     "output_type": "stream",
     "text": [
      "Model #20\n",
      " Best roc_auc: 0.8868\n",
      "Best params: {'var_smoothing': 7.453943540948982e-11}\n",
      "\n"
     ]
    },
    {
     "name": "stderr",
     "output_type": "stream",
     "text": [
      "C:\\Users\\Adam\\Anaconda3\\lib\\site-packages\\skopt\\optimizer\\optimizer.py:399: UserWarning: The objective has been evaluated at this point before.\n",
      "  warnings.warn(\"The objective has been evaluated \"\n"
     ]
    },
    {
     "name": "stdout",
     "output_type": "stream",
     "text": [
      "Model #21\n",
      " Best roc_auc: 0.8868\n",
      "Best params: {'var_smoothing': 7.453943540948982e-11}\n",
      "\n"
     ]
    },
    {
     "name": "stderr",
     "output_type": "stream",
     "text": [
      "C:\\Users\\Adam\\Anaconda3\\lib\\site-packages\\skopt\\optimizer\\optimizer.py:399: UserWarning: The objective has been evaluated at this point before.\n",
      "  warnings.warn(\"The objective has been evaluated \"\n"
     ]
    },
    {
     "name": "stdout",
     "output_type": "stream",
     "text": [
      "Model #22\n",
      " Best roc_auc: 0.8868\n",
      "Best params: {'var_smoothing': 7.453943540948982e-11}\n",
      "\n"
     ]
    },
    {
     "name": "stderr",
     "output_type": "stream",
     "text": [
      "C:\\Users\\Adam\\Anaconda3\\lib\\site-packages\\skopt\\optimizer\\optimizer.py:399: UserWarning: The objective has been evaluated at this point before.\n",
      "  warnings.warn(\"The objective has been evaluated \"\n"
     ]
    },
    {
     "name": "stdout",
     "output_type": "stream",
     "text": [
      "Model #23\n",
      " Best roc_auc: 0.8868\n",
      "Best params: {'var_smoothing': 7.453943540948982e-11}\n",
      "\n"
     ]
    },
    {
     "name": "stderr",
     "output_type": "stream",
     "text": [
      "C:\\Users\\Adam\\Anaconda3\\lib\\site-packages\\skopt\\optimizer\\optimizer.py:399: UserWarning: The objective has been evaluated at this point before.\n",
      "  warnings.warn(\"The objective has been evaluated \"\n"
     ]
    },
    {
     "name": "stdout",
     "output_type": "stream",
     "text": [
      "Model #24\n",
      " Best roc_auc: 0.8868\n",
      "Best params: {'var_smoothing': 7.453943540948982e-11}\n",
      "\n"
     ]
    },
    {
     "name": "stderr",
     "output_type": "stream",
     "text": [
      "C:\\Users\\Adam\\Anaconda3\\lib\\site-packages\\skopt\\optimizer\\optimizer.py:399: UserWarning: The objective has been evaluated at this point before.\n",
      "  warnings.warn(\"The objective has been evaluated \"\n"
     ]
    },
    {
     "name": "stdout",
     "output_type": "stream",
     "text": [
      "Model #25\n",
      " Best roc_auc: 0.8868\n",
      "Best params: {'var_smoothing': 7.453943540948982e-11}\n",
      "\n"
     ]
    },
    {
     "name": "stderr",
     "output_type": "stream",
     "text": [
      "C:\\Users\\Adam\\Anaconda3\\lib\\site-packages\\skopt\\optimizer\\optimizer.py:399: UserWarning: The objective has been evaluated at this point before.\n",
      "  warnings.warn(\"The objective has been evaluated \"\n"
     ]
    },
    {
     "name": "stdout",
     "output_type": "stream",
     "text": [
      "Model #26\n",
      " Best roc_auc: 0.8868\n",
      "Best params: {'var_smoothing': 7.453943540948982e-11}\n",
      "\n"
     ]
    },
    {
     "name": "stderr",
     "output_type": "stream",
     "text": [
      "C:\\Users\\Adam\\Anaconda3\\lib\\site-packages\\skopt\\optimizer\\optimizer.py:399: UserWarning: The objective has been evaluated at this point before.\n",
      "  warnings.warn(\"The objective has been evaluated \"\n"
     ]
    },
    {
     "name": "stdout",
     "output_type": "stream",
     "text": [
      "Model #27\n",
      " Best roc_auc: 0.8868\n",
      "Best params: {'var_smoothing': 7.453943540948982e-11}\n",
      "\n"
     ]
    },
    {
     "name": "stderr",
     "output_type": "stream",
     "text": [
      "C:\\Users\\Adam\\Anaconda3\\lib\\site-packages\\skopt\\optimizer\\optimizer.py:399: UserWarning: The objective has been evaluated at this point before.\n",
      "  warnings.warn(\"The objective has been evaluated \"\n"
     ]
    },
    {
     "name": "stdout",
     "output_type": "stream",
     "text": [
      "Model #28\n",
      " Best roc_auc: 0.8868\n",
      "Best params: {'var_smoothing': 7.453943540948982e-11}\n",
      "\n"
     ]
    },
    {
     "name": "stderr",
     "output_type": "stream",
     "text": [
      "C:\\Users\\Adam\\Anaconda3\\lib\\site-packages\\skopt\\optimizer\\optimizer.py:399: UserWarning: The objective has been evaluated at this point before.\n",
      "  warnings.warn(\"The objective has been evaluated \"\n"
     ]
    },
    {
     "name": "stdout",
     "output_type": "stream",
     "text": [
      "Model #29\n",
      " Best roc_auc: 0.8868\n",
      "Best params: {'var_smoothing': 7.453943540948982e-11}\n",
      "\n"
     ]
    },
    {
     "name": "stderr",
     "output_type": "stream",
     "text": [
      "C:\\Users\\Adam\\Anaconda3\\lib\\site-packages\\skopt\\optimizer\\optimizer.py:399: UserWarning: The objective has been evaluated at this point before.\n",
      "  warnings.warn(\"The objective has been evaluated \"\n"
     ]
    },
    {
     "name": "stdout",
     "output_type": "stream",
     "text": [
      "Model #30\n",
      " Best roc_auc: 0.8868\n",
      "Best params: {'var_smoothing': 7.453943540948982e-11}\n",
      "\n"
     ]
    },
    {
     "name": "stderr",
     "output_type": "stream",
     "text": [
      "C:\\Users\\Adam\\Anaconda3\\lib\\site-packages\\skopt\\optimizer\\optimizer.py:399: UserWarning: The objective has been evaluated at this point before.\n",
      "  warnings.warn(\"The objective has been evaluated \"\n"
     ]
    },
    {
     "name": "stdout",
     "output_type": "stream",
     "text": [
      "Model #31\n",
      " Best roc_auc: 0.8868\n",
      "Best params: {'var_smoothing': 7.453943540948982e-11}\n",
      "\n"
     ]
    },
    {
     "name": "stderr",
     "output_type": "stream",
     "text": [
      "C:\\Users\\Adam\\Anaconda3\\lib\\site-packages\\skopt\\optimizer\\optimizer.py:399: UserWarning: The objective has been evaluated at this point before.\n",
      "  warnings.warn(\"The objective has been evaluated \"\n"
     ]
    },
    {
     "name": "stdout",
     "output_type": "stream",
     "text": [
      "Model #32\n",
      " Best roc_auc: 0.8868\n",
      "Best params: {'var_smoothing': 7.453943540948982e-11}\n",
      "\n"
     ]
    },
    {
     "name": "stderr",
     "output_type": "stream",
     "text": [
      "C:\\Users\\Adam\\Anaconda3\\lib\\site-packages\\skopt\\optimizer\\optimizer.py:399: UserWarning: The objective has been evaluated at this point before.\n",
      "  warnings.warn(\"The objective has been evaluated \"\n"
     ]
    },
    {
     "name": "stdout",
     "output_type": "stream",
     "text": [
      "Model #33\n",
      " Best roc_auc: 0.8868\n",
      "Best params: {'var_smoothing': 7.453943540948982e-11}\n",
      "\n"
     ]
    },
    {
     "name": "stderr",
     "output_type": "stream",
     "text": [
      "C:\\Users\\Adam\\Anaconda3\\lib\\site-packages\\skopt\\optimizer\\optimizer.py:399: UserWarning: The objective has been evaluated at this point before.\n",
      "  warnings.warn(\"The objective has been evaluated \"\n"
     ]
    },
    {
     "name": "stdout",
     "output_type": "stream",
     "text": [
      "Model #34\n",
      " Best roc_auc: 0.8868\n",
      "Best params: {'var_smoothing': 7.453943540948982e-11}\n",
      "\n"
     ]
    },
    {
     "name": "stderr",
     "output_type": "stream",
     "text": [
      "C:\\Users\\Adam\\Anaconda3\\lib\\site-packages\\skopt\\optimizer\\optimizer.py:399: UserWarning: The objective has been evaluated at this point before.\n",
      "  warnings.warn(\"The objective has been evaluated \"\n"
     ]
    },
    {
     "name": "stdout",
     "output_type": "stream",
     "text": [
      "Model #35\n",
      " Best roc_auc: 0.8868\n",
      "Best params: {'var_smoothing': 7.453943540948982e-11}\n",
      "\n"
     ]
    },
    {
     "name": "stderr",
     "output_type": "stream",
     "text": [
      "C:\\Users\\Adam\\Anaconda3\\lib\\site-packages\\skopt\\optimizer\\optimizer.py:399: UserWarning: The objective has been evaluated at this point before.\n",
      "  warnings.warn(\"The objective has been evaluated \"\n"
     ]
    },
    {
     "name": "stdout",
     "output_type": "stream",
     "text": [
      "Model #36\n",
      " Best roc_auc: 0.8868\n",
      "Best params: {'var_smoothing': 7.453943540948982e-11}\n",
      "\n"
     ]
    },
    {
     "name": "stderr",
     "output_type": "stream",
     "text": [
      "C:\\Users\\Adam\\Anaconda3\\lib\\site-packages\\skopt\\optimizer\\optimizer.py:399: UserWarning: The objective has been evaluated at this point before.\n",
      "  warnings.warn(\"The objective has been evaluated \"\n"
     ]
    },
    {
     "name": "stdout",
     "output_type": "stream",
     "text": [
      "Model #37\n",
      " Best roc_auc: 0.8868\n",
      "Best params: {'var_smoothing': 7.453943540948982e-11}\n",
      "\n"
     ]
    },
    {
     "name": "stderr",
     "output_type": "stream",
     "text": [
      "C:\\Users\\Adam\\Anaconda3\\lib\\site-packages\\skopt\\optimizer\\optimizer.py:399: UserWarning: The objective has been evaluated at this point before.\n",
      "  warnings.warn(\"The objective has been evaluated \"\n"
     ]
    },
    {
     "name": "stdout",
     "output_type": "stream",
     "text": [
      "Model #38\n",
      " Best roc_auc: 0.8868\n",
      "Best params: {'var_smoothing': 7.453943540948982e-11}\n",
      "\n"
     ]
    },
    {
     "name": "stderr",
     "output_type": "stream",
     "text": [
      "C:\\Users\\Adam\\Anaconda3\\lib\\site-packages\\skopt\\optimizer\\optimizer.py:399: UserWarning: The objective has been evaluated at this point before.\n",
      "  warnings.warn(\"The objective has been evaluated \"\n"
     ]
    },
    {
     "name": "stdout",
     "output_type": "stream",
     "text": [
      "Model #39\n",
      " Best roc_auc: 0.8868\n",
      "Best params: {'var_smoothing': 7.453943540948982e-11}\n",
      "\n"
     ]
    },
    {
     "name": "stderr",
     "output_type": "stream",
     "text": [
      "C:\\Users\\Adam\\Anaconda3\\lib\\site-packages\\skopt\\optimizer\\optimizer.py:399: UserWarning: The objective has been evaluated at this point before.\n",
      "  warnings.warn(\"The objective has been evaluated \"\n"
     ]
    },
    {
     "name": "stdout",
     "output_type": "stream",
     "text": [
      "Model #40\n",
      " Best roc_auc: 0.8868\n",
      "Best params: {'var_smoothing': 7.453943540948982e-11}\n",
      "\n"
     ]
    },
    {
     "name": "stderr",
     "output_type": "stream",
     "text": [
      "C:\\Users\\Adam\\Anaconda3\\lib\\site-packages\\skopt\\optimizer\\optimizer.py:399: UserWarning: The objective has been evaluated at this point before.\n",
      "  warnings.warn(\"The objective has been evaluated \"\n"
     ]
    },
    {
     "name": "stdout",
     "output_type": "stream",
     "text": [
      "Model #41\n",
      " Best roc_auc: 0.8868\n",
      "Best params: {'var_smoothing': 7.453943540948982e-11}\n",
      "\n"
     ]
    },
    {
     "name": "stderr",
     "output_type": "stream",
     "text": [
      "C:\\Users\\Adam\\Anaconda3\\lib\\site-packages\\skopt\\optimizer\\optimizer.py:399: UserWarning: The objective has been evaluated at this point before.\n",
      "  warnings.warn(\"The objective has been evaluated \"\n"
     ]
    },
    {
     "name": "stdout",
     "output_type": "stream",
     "text": [
      "Model #42\n",
      " Best roc_auc: 0.8868\n",
      "Best params: {'var_smoothing': 7.453943540948982e-11}\n",
      "\n"
     ]
    },
    {
     "name": "stderr",
     "output_type": "stream",
     "text": [
      "C:\\Users\\Adam\\Anaconda3\\lib\\site-packages\\skopt\\optimizer\\optimizer.py:399: UserWarning: The objective has been evaluated at this point before.\n",
      "  warnings.warn(\"The objective has been evaluated \"\n"
     ]
    },
    {
     "name": "stdout",
     "output_type": "stream",
     "text": [
      "Model #43\n",
      " Best roc_auc: 0.8868\n",
      "Best params: {'var_smoothing': 7.453943540948982e-11}\n",
      "\n"
     ]
    },
    {
     "name": "stderr",
     "output_type": "stream",
     "text": [
      "C:\\Users\\Adam\\Anaconda3\\lib\\site-packages\\skopt\\optimizer\\optimizer.py:399: UserWarning: The objective has been evaluated at this point before.\n",
      "  warnings.warn(\"The objective has been evaluated \"\n"
     ]
    },
    {
     "name": "stdout",
     "output_type": "stream",
     "text": [
      "Model #44\n",
      " Best roc_auc: 0.8868\n",
      "Best params: {'var_smoothing': 7.453943540948982e-11}\n",
      "\n"
     ]
    },
    {
     "name": "stderr",
     "output_type": "stream",
     "text": [
      "C:\\Users\\Adam\\Anaconda3\\lib\\site-packages\\skopt\\optimizer\\optimizer.py:399: UserWarning: The objective has been evaluated at this point before.\n",
      "  warnings.warn(\"The objective has been evaluated \"\n"
     ]
    },
    {
     "name": "stdout",
     "output_type": "stream",
     "text": [
      "Model #45\n",
      " Best roc_auc: 0.8868\n",
      "Best params: {'var_smoothing': 7.453943540948982e-11}\n",
      "\n"
     ]
    },
    {
     "name": "stderr",
     "output_type": "stream",
     "text": [
      "C:\\Users\\Adam\\Anaconda3\\lib\\site-packages\\skopt\\optimizer\\optimizer.py:399: UserWarning: The objective has been evaluated at this point before.\n",
      "  warnings.warn(\"The objective has been evaluated \"\n"
     ]
    },
    {
     "name": "stdout",
     "output_type": "stream",
     "text": [
      "Model #46\n",
      " Best roc_auc: 0.8868\n",
      "Best params: {'var_smoothing': 7.453943540948982e-11}\n",
      "\n"
     ]
    },
    {
     "name": "stderr",
     "output_type": "stream",
     "text": [
      "C:\\Users\\Adam\\Anaconda3\\lib\\site-packages\\skopt\\optimizer\\optimizer.py:399: UserWarning: The objective has been evaluated at this point before.\n",
      "  warnings.warn(\"The objective has been evaluated \"\n"
     ]
    },
    {
     "name": "stdout",
     "output_type": "stream",
     "text": [
      "Model #47\n",
      " Best roc_auc: 0.8868\n",
      "Best params: {'var_smoothing': 7.453943540948982e-11}\n",
      "\n"
     ]
    },
    {
     "name": "stderr",
     "output_type": "stream",
     "text": [
      "C:\\Users\\Adam\\Anaconda3\\lib\\site-packages\\skopt\\optimizer\\optimizer.py:399: UserWarning: The objective has been evaluated at this point before.\n",
      "  warnings.warn(\"The objective has been evaluated \"\n"
     ]
    },
    {
     "name": "stdout",
     "output_type": "stream",
     "text": [
      "Model #48\n",
      " Best roc_auc: 0.8868\n",
      "Best params: {'var_smoothing': 7.453943540948982e-11}\n",
      "\n"
     ]
    },
    {
     "name": "stderr",
     "output_type": "stream",
     "text": [
      "C:\\Users\\Adam\\Anaconda3\\lib\\site-packages\\skopt\\optimizer\\optimizer.py:399: UserWarning: The objective has been evaluated at this point before.\n",
      "  warnings.warn(\"The objective has been evaluated \"\n"
     ]
    },
    {
     "name": "stdout",
     "output_type": "stream",
     "text": [
      "Model #49\n",
      " Best roc_auc: 0.8868\n",
      "Best params: {'var_smoothing': 7.453943540948982e-11}\n",
      "\n"
     ]
    },
    {
     "name": "stderr",
     "output_type": "stream",
     "text": [
      "C:\\Users\\Adam\\Anaconda3\\lib\\site-packages\\skopt\\optimizer\\optimizer.py:399: UserWarning: The objective has been evaluated at this point before.\n",
      "  warnings.warn(\"The objective has been evaluated \"\n"
     ]
    },
    {
     "name": "stdout",
     "output_type": "stream",
     "text": [
      "Model #50\n",
      " Best roc_auc: 0.8868\n",
      "Best params: {'var_smoothing': 7.453943540948982e-11}\n",
      "\n"
     ]
    },
    {
     "name": "stderr",
     "output_type": "stream",
     "text": [
      "C:\\Users\\Adam\\Anaconda3\\lib\\site-packages\\skopt\\optimizer\\optimizer.py:399: UserWarning: The objective has been evaluated at this point before.\n",
      "  warnings.warn(\"The objective has been evaluated \"\n"
     ]
    },
    {
     "name": "stdout",
     "output_type": "stream",
     "text": [
      "Model #51\n",
      " Best roc_auc: 0.8868\n",
      "Best params: {'var_smoothing': 7.453943540948982e-11}\n",
      "\n"
     ]
    },
    {
     "name": "stderr",
     "output_type": "stream",
     "text": [
      "C:\\Users\\Adam\\Anaconda3\\lib\\site-packages\\skopt\\optimizer\\optimizer.py:399: UserWarning: The objective has been evaluated at this point before.\n",
      "  warnings.warn(\"The objective has been evaluated \"\n"
     ]
    },
    {
     "name": "stdout",
     "output_type": "stream",
     "text": [
      "Model #52\n",
      " Best roc_auc: 0.8868\n",
      "Best params: {'var_smoothing': 7.453943540948982e-11}\n",
      "\n"
     ]
    },
    {
     "name": "stderr",
     "output_type": "stream",
     "text": [
      "C:\\Users\\Adam\\Anaconda3\\lib\\site-packages\\skopt\\optimizer\\optimizer.py:399: UserWarning: The objective has been evaluated at this point before.\n",
      "  warnings.warn(\"The objective has been evaluated \"\n"
     ]
    },
    {
     "name": "stdout",
     "output_type": "stream",
     "text": [
      "Model #53\n",
      " Best roc_auc: 0.8868\n",
      "Best params: {'var_smoothing': 7.453943540948982e-11}\n",
      "\n"
     ]
    },
    {
     "name": "stderr",
     "output_type": "stream",
     "text": [
      "C:\\Users\\Adam\\Anaconda3\\lib\\site-packages\\skopt\\optimizer\\optimizer.py:399: UserWarning: The objective has been evaluated at this point before.\n",
      "  warnings.warn(\"The objective has been evaluated \"\n"
     ]
    },
    {
     "name": "stdout",
     "output_type": "stream",
     "text": [
      "Model #54\n",
      " Best roc_auc: 0.8868\n",
      "Best params: {'var_smoothing': 7.453943540948982e-11}\n",
      "\n"
     ]
    },
    {
     "name": "stderr",
     "output_type": "stream",
     "text": [
      "C:\\Users\\Adam\\Anaconda3\\lib\\site-packages\\skopt\\optimizer\\optimizer.py:399: UserWarning: The objective has been evaluated at this point before.\n",
      "  warnings.warn(\"The objective has been evaluated \"\n"
     ]
    },
    {
     "name": "stdout",
     "output_type": "stream",
     "text": [
      "Model #55\n",
      " Best roc_auc: 0.8868\n",
      "Best params: {'var_smoothing': 7.453943540948982e-11}\n",
      "\n"
     ]
    },
    {
     "name": "stderr",
     "output_type": "stream",
     "text": [
      "C:\\Users\\Adam\\Anaconda3\\lib\\site-packages\\skopt\\optimizer\\optimizer.py:399: UserWarning: The objective has been evaluated at this point before.\n",
      "  warnings.warn(\"The objective has been evaluated \"\n"
     ]
    },
    {
     "name": "stdout",
     "output_type": "stream",
     "text": [
      "Model #56\n",
      " Best roc_auc: 0.8868\n",
      "Best params: {'var_smoothing': 7.453943540948982e-11}\n",
      "\n"
     ]
    },
    {
     "name": "stderr",
     "output_type": "stream",
     "text": [
      "C:\\Users\\Adam\\Anaconda3\\lib\\site-packages\\skopt\\optimizer\\optimizer.py:399: UserWarning: The objective has been evaluated at this point before.\n",
      "  warnings.warn(\"The objective has been evaluated \"\n"
     ]
    },
    {
     "name": "stdout",
     "output_type": "stream",
     "text": [
      "Model #57\n",
      " Best roc_auc: 0.8868\n",
      "Best params: {'var_smoothing': 7.453943540948982e-11}\n",
      "\n"
     ]
    },
    {
     "name": "stderr",
     "output_type": "stream",
     "text": [
      "C:\\Users\\Adam\\Anaconda3\\lib\\site-packages\\skopt\\optimizer\\optimizer.py:399: UserWarning: The objective has been evaluated at this point before.\n",
      "  warnings.warn(\"The objective has been evaluated \"\n"
     ]
    },
    {
     "name": "stdout",
     "output_type": "stream",
     "text": [
      "Model #58\n",
      " Best roc_auc: 0.8868\n",
      "Best params: {'var_smoothing': 7.453943540948982e-11}\n",
      "\n"
     ]
    },
    {
     "name": "stderr",
     "output_type": "stream",
     "text": [
      "C:\\Users\\Adam\\Anaconda3\\lib\\site-packages\\skopt\\optimizer\\optimizer.py:399: UserWarning: The objective has been evaluated at this point before.\n",
      "  warnings.warn(\"The objective has been evaluated \"\n"
     ]
    },
    {
     "name": "stdout",
     "output_type": "stream",
     "text": [
      "Model #59\n",
      " Best roc_auc: 0.8868\n",
      "Best params: {'var_smoothing': 7.453943540948982e-11}\n",
      "\n"
     ]
    },
    {
     "name": "stderr",
     "output_type": "stream",
     "text": [
      "C:\\Users\\Adam\\Anaconda3\\lib\\site-packages\\skopt\\optimizer\\optimizer.py:399: UserWarning: The objective has been evaluated at this point before.\n",
      "  warnings.warn(\"The objective has been evaluated \"\n"
     ]
    },
    {
     "name": "stdout",
     "output_type": "stream",
     "text": [
      "Model #60\n",
      " Best roc_auc: 0.8868\n",
      "Best params: {'var_smoothing': 7.453943540948982e-11}\n",
      "\n"
     ]
    },
    {
     "name": "stderr",
     "output_type": "stream",
     "text": [
      "C:\\Users\\Adam\\Anaconda3\\lib\\site-packages\\skopt\\optimizer\\optimizer.py:399: UserWarning: The objective has been evaluated at this point before.\n",
      "  warnings.warn(\"The objective has been evaluated \"\n"
     ]
    },
    {
     "name": "stdout",
     "output_type": "stream",
     "text": [
      "Model #61\n",
      " Best roc_auc: 0.8868\n",
      "Best params: {'var_smoothing': 7.453943540948982e-11}\n",
      "\n"
     ]
    },
    {
     "name": "stderr",
     "output_type": "stream",
     "text": [
      "C:\\Users\\Adam\\Anaconda3\\lib\\site-packages\\skopt\\optimizer\\optimizer.py:399: UserWarning: The objective has been evaluated at this point before.\n",
      "  warnings.warn(\"The objective has been evaluated \"\n"
     ]
    },
    {
     "name": "stdout",
     "output_type": "stream",
     "text": [
      "Model #62\n",
      " Best roc_auc: 0.8868\n",
      "Best params: {'var_smoothing': 7.453943540948982e-11}\n",
      "\n"
     ]
    },
    {
     "name": "stderr",
     "output_type": "stream",
     "text": [
      "C:\\Users\\Adam\\Anaconda3\\lib\\site-packages\\skopt\\optimizer\\optimizer.py:399: UserWarning: The objective has been evaluated at this point before.\n",
      "  warnings.warn(\"The objective has been evaluated \"\n"
     ]
    },
    {
     "name": "stdout",
     "output_type": "stream",
     "text": [
      "Model #63\n",
      " Best roc_auc: 0.8868\n",
      "Best params: {'var_smoothing': 7.453943540948982e-11}\n",
      "\n"
     ]
    },
    {
     "name": "stderr",
     "output_type": "stream",
     "text": [
      "C:\\Users\\Adam\\Anaconda3\\lib\\site-packages\\skopt\\optimizer\\optimizer.py:399: UserWarning: The objective has been evaluated at this point before.\n",
      "  warnings.warn(\"The objective has been evaluated \"\n"
     ]
    },
    {
     "name": "stdout",
     "output_type": "stream",
     "text": [
      "Model #64\n",
      " Best roc_auc: 0.8868\n",
      "Best params: {'var_smoothing': 7.453943540948982e-11}\n",
      "\n"
     ]
    },
    {
     "name": "stderr",
     "output_type": "stream",
     "text": [
      "C:\\Users\\Adam\\Anaconda3\\lib\\site-packages\\skopt\\optimizer\\optimizer.py:399: UserWarning: The objective has been evaluated at this point before.\n",
      "  warnings.warn(\"The objective has been evaluated \"\n"
     ]
    },
    {
     "name": "stdout",
     "output_type": "stream",
     "text": [
      "Model #65\n",
      " Best roc_auc: 0.8868\n",
      "Best params: {'var_smoothing': 7.453943540948982e-11}\n",
      "\n"
     ]
    },
    {
     "name": "stderr",
     "output_type": "stream",
     "text": [
      "C:\\Users\\Adam\\Anaconda3\\lib\\site-packages\\skopt\\optimizer\\optimizer.py:399: UserWarning: The objective has been evaluated at this point before.\n",
      "  warnings.warn(\"The objective has been evaluated \"\n"
     ]
    },
    {
     "name": "stdout",
     "output_type": "stream",
     "text": [
      "Model #66\n",
      " Best roc_auc: 0.8868\n",
      "Best params: {'var_smoothing': 7.453943540948982e-11}\n",
      "\n"
     ]
    },
    {
     "name": "stderr",
     "output_type": "stream",
     "text": [
      "C:\\Users\\Adam\\Anaconda3\\lib\\site-packages\\skopt\\optimizer\\optimizer.py:399: UserWarning: The objective has been evaluated at this point before.\n",
      "  warnings.warn(\"The objective has been evaluated \"\n"
     ]
    },
    {
     "name": "stdout",
     "output_type": "stream",
     "text": [
      "Model #67\n",
      " Best roc_auc: 0.8868\n",
      "Best params: {'var_smoothing': 7.453943540948982e-11}\n",
      "\n"
     ]
    },
    {
     "name": "stderr",
     "output_type": "stream",
     "text": [
      "C:\\Users\\Adam\\Anaconda3\\lib\\site-packages\\skopt\\optimizer\\optimizer.py:399: UserWarning: The objective has been evaluated at this point before.\n",
      "  warnings.warn(\"The objective has been evaluated \"\n"
     ]
    },
    {
     "name": "stdout",
     "output_type": "stream",
     "text": [
      "Model #68\n",
      " Best roc_auc: 0.8868\n",
      "Best params: {'var_smoothing': 7.453943540948982e-11}\n",
      "\n"
     ]
    },
    {
     "name": "stderr",
     "output_type": "stream",
     "text": [
      "C:\\Users\\Adam\\Anaconda3\\lib\\site-packages\\skopt\\optimizer\\optimizer.py:399: UserWarning: The objective has been evaluated at this point before.\n",
      "  warnings.warn(\"The objective has been evaluated \"\n"
     ]
    },
    {
     "name": "stdout",
     "output_type": "stream",
     "text": [
      "Model #69\n",
      " Best roc_auc: 0.8868\n",
      "Best params: {'var_smoothing': 7.453943540948982e-11}\n",
      "\n"
     ]
    },
    {
     "name": "stderr",
     "output_type": "stream",
     "text": [
      "C:\\Users\\Adam\\Anaconda3\\lib\\site-packages\\skopt\\optimizer\\optimizer.py:399: UserWarning: The objective has been evaluated at this point before.\n",
      "  warnings.warn(\"The objective has been evaluated \"\n"
     ]
    },
    {
     "name": "stdout",
     "output_type": "stream",
     "text": [
      "Model #70\n",
      " Best roc_auc: 0.8868\n",
      "Best params: {'var_smoothing': 7.453943540948982e-11}\n",
      "\n"
     ]
    },
    {
     "name": "stderr",
     "output_type": "stream",
     "text": [
      "C:\\Users\\Adam\\Anaconda3\\lib\\site-packages\\skopt\\optimizer\\optimizer.py:399: UserWarning: The objective has been evaluated at this point before.\n",
      "  warnings.warn(\"The objective has been evaluated \"\n"
     ]
    },
    {
     "name": "stdout",
     "output_type": "stream",
     "text": [
      "Model #71\n",
      " Best roc_auc: 0.8868\n",
      "Best params: {'var_smoothing': 7.453943540948982e-11}\n",
      "\n"
     ]
    },
    {
     "name": "stderr",
     "output_type": "stream",
     "text": [
      "C:\\Users\\Adam\\Anaconda3\\lib\\site-packages\\skopt\\optimizer\\optimizer.py:399: UserWarning: The objective has been evaluated at this point before.\n",
      "  warnings.warn(\"The objective has been evaluated \"\n"
     ]
    },
    {
     "name": "stdout",
     "output_type": "stream",
     "text": [
      "Model #72\n",
      " Best roc_auc: 0.8868\n",
      "Best params: {'var_smoothing': 7.453943540948982e-11}\n",
      "\n"
     ]
    },
    {
     "name": "stderr",
     "output_type": "stream",
     "text": [
      "C:\\Users\\Adam\\Anaconda3\\lib\\site-packages\\skopt\\optimizer\\optimizer.py:399: UserWarning: The objective has been evaluated at this point before.\n",
      "  warnings.warn(\"The objective has been evaluated \"\n"
     ]
    },
    {
     "name": "stdout",
     "output_type": "stream",
     "text": [
      "Model #73\n",
      " Best roc_auc: 0.8868\n",
      "Best params: {'var_smoothing': 7.453943540948982e-11}\n",
      "\n"
     ]
    },
    {
     "name": "stderr",
     "output_type": "stream",
     "text": [
      "C:\\Users\\Adam\\Anaconda3\\lib\\site-packages\\skopt\\optimizer\\optimizer.py:399: UserWarning: The objective has been evaluated at this point before.\n",
      "  warnings.warn(\"The objective has been evaluated \"\n"
     ]
    },
    {
     "name": "stdout",
     "output_type": "stream",
     "text": [
      "Model #74\n",
      " Best roc_auc: 0.8868\n",
      "Best params: {'var_smoothing': 7.453943540948982e-11}\n",
      "\n"
     ]
    },
    {
     "name": "stderr",
     "output_type": "stream",
     "text": [
      "C:\\Users\\Adam\\Anaconda3\\lib\\site-packages\\skopt\\optimizer\\optimizer.py:399: UserWarning: The objective has been evaluated at this point before.\n",
      "  warnings.warn(\"The objective has been evaluated \"\n"
     ]
    },
    {
     "name": "stdout",
     "output_type": "stream",
     "text": [
      "Model #75\n",
      " Best roc_auc: 0.8868\n",
      "Best params: {'var_smoothing': 7.453943540948982e-11}\n",
      "\n"
     ]
    },
    {
     "name": "stderr",
     "output_type": "stream",
     "text": [
      "C:\\Users\\Adam\\Anaconda3\\lib\\site-packages\\skopt\\optimizer\\optimizer.py:399: UserWarning: The objective has been evaluated at this point before.\n",
      "  warnings.warn(\"The objective has been evaluated \"\n"
     ]
    },
    {
     "name": "stdout",
     "output_type": "stream",
     "text": [
      "Model #76\n",
      " Best roc_auc: 0.8868\n",
      "Best params: {'var_smoothing': 7.453943540948982e-11}\n",
      "\n"
     ]
    },
    {
     "name": "stderr",
     "output_type": "stream",
     "text": [
      "C:\\Users\\Adam\\Anaconda3\\lib\\site-packages\\skopt\\optimizer\\optimizer.py:399: UserWarning: The objective has been evaluated at this point before.\n",
      "  warnings.warn(\"The objective has been evaluated \"\n"
     ]
    },
    {
     "name": "stdout",
     "output_type": "stream",
     "text": [
      "Model #77\n",
      " Best roc_auc: 0.8868\n",
      "Best params: {'var_smoothing': 7.453943540948982e-11}\n",
      "\n"
     ]
    },
    {
     "name": "stderr",
     "output_type": "stream",
     "text": [
      "C:\\Users\\Adam\\Anaconda3\\lib\\site-packages\\skopt\\optimizer\\optimizer.py:399: UserWarning: The objective has been evaluated at this point before.\n",
      "  warnings.warn(\"The objective has been evaluated \"\n"
     ]
    },
    {
     "name": "stdout",
     "output_type": "stream",
     "text": [
      "Model #78\n",
      " Best roc_auc: 0.8868\n",
      "Best params: {'var_smoothing': 7.453943540948982e-11}\n",
      "\n"
     ]
    },
    {
     "name": "stderr",
     "output_type": "stream",
     "text": [
      "C:\\Users\\Adam\\Anaconda3\\lib\\site-packages\\skopt\\optimizer\\optimizer.py:399: UserWarning: The objective has been evaluated at this point before.\n",
      "  warnings.warn(\"The objective has been evaluated \"\n"
     ]
    },
    {
     "name": "stdout",
     "output_type": "stream",
     "text": [
      "Model #79\n",
      " Best roc_auc: 0.8868\n",
      "Best params: {'var_smoothing': 7.453943540948982e-11}\n",
      "\n"
     ]
    },
    {
     "name": "stderr",
     "output_type": "stream",
     "text": [
      "C:\\Users\\Adam\\Anaconda3\\lib\\site-packages\\skopt\\optimizer\\optimizer.py:399: UserWarning: The objective has been evaluated at this point before.\n",
      "  warnings.warn(\"The objective has been evaluated \"\n"
     ]
    },
    {
     "name": "stdout",
     "output_type": "stream",
     "text": [
      "Model #80\n",
      " Best roc_auc: 0.8868\n",
      "Best params: {'var_smoothing': 7.453943540948982e-11}\n",
      "\n"
     ]
    },
    {
     "name": "stderr",
     "output_type": "stream",
     "text": [
      "C:\\Users\\Adam\\Anaconda3\\lib\\site-packages\\skopt\\optimizer\\optimizer.py:399: UserWarning: The objective has been evaluated at this point before.\n",
      "  warnings.warn(\"The objective has been evaluated \"\n"
     ]
    },
    {
     "name": "stdout",
     "output_type": "stream",
     "text": [
      "Model #81\n",
      " Best roc_auc: 0.8868\n",
      "Best params: {'var_smoothing': 7.453943540948982e-11}\n",
      "\n"
     ]
    },
    {
     "name": "stderr",
     "output_type": "stream",
     "text": [
      "C:\\Users\\Adam\\Anaconda3\\lib\\site-packages\\skopt\\optimizer\\optimizer.py:399: UserWarning: The objective has been evaluated at this point before.\n",
      "  warnings.warn(\"The objective has been evaluated \"\n"
     ]
    },
    {
     "name": "stdout",
     "output_type": "stream",
     "text": [
      "Model #82\n",
      " Best roc_auc: 0.8868\n",
      "Best params: {'var_smoothing': 7.453943540948982e-11}\n",
      "\n"
     ]
    },
    {
     "name": "stderr",
     "output_type": "stream",
     "text": [
      "C:\\Users\\Adam\\Anaconda3\\lib\\site-packages\\skopt\\optimizer\\optimizer.py:399: UserWarning: The objective has been evaluated at this point before.\n",
      "  warnings.warn(\"The objective has been evaluated \"\n"
     ]
    },
    {
     "name": "stdout",
     "output_type": "stream",
     "text": [
      "Model #83\n",
      " Best roc_auc: 0.8868\n",
      "Best params: {'var_smoothing': 7.453943540948982e-11}\n",
      "\n"
     ]
    },
    {
     "name": "stderr",
     "output_type": "stream",
     "text": [
      "C:\\Users\\Adam\\Anaconda3\\lib\\site-packages\\skopt\\optimizer\\optimizer.py:399: UserWarning: The objective has been evaluated at this point before.\n",
      "  warnings.warn(\"The objective has been evaluated \"\n"
     ]
    },
    {
     "name": "stdout",
     "output_type": "stream",
     "text": [
      "Model #84\n",
      " Best roc_auc: 0.8868\n",
      "Best params: {'var_smoothing': 7.453943540948982e-11}\n",
      "\n"
     ]
    },
    {
     "name": "stderr",
     "output_type": "stream",
     "text": [
      "C:\\Users\\Adam\\Anaconda3\\lib\\site-packages\\skopt\\optimizer\\optimizer.py:399: UserWarning: The objective has been evaluated at this point before.\n",
      "  warnings.warn(\"The objective has been evaluated \"\n"
     ]
    },
    {
     "name": "stdout",
     "output_type": "stream",
     "text": [
      "Model #85\n",
      " Best roc_auc: 0.8868\n",
      "Best params: {'var_smoothing': 7.453943540948982e-11}\n",
      "\n"
     ]
    },
    {
     "name": "stderr",
     "output_type": "stream",
     "text": [
      "C:\\Users\\Adam\\Anaconda3\\lib\\site-packages\\skopt\\optimizer\\optimizer.py:399: UserWarning: The objective has been evaluated at this point before.\n",
      "  warnings.warn(\"The objective has been evaluated \"\n"
     ]
    },
    {
     "name": "stdout",
     "output_type": "stream",
     "text": [
      "Model #86\n",
      " Best roc_auc: 0.8868\n",
      "Best params: {'var_smoothing': 7.453943540948982e-11}\n",
      "\n"
     ]
    },
    {
     "name": "stderr",
     "output_type": "stream",
     "text": [
      "C:\\Users\\Adam\\Anaconda3\\lib\\site-packages\\skopt\\optimizer\\optimizer.py:399: UserWarning: The objective has been evaluated at this point before.\n",
      "  warnings.warn(\"The objective has been evaluated \"\n"
     ]
    },
    {
     "name": "stdout",
     "output_type": "stream",
     "text": [
      "Model #87\n",
      " Best roc_auc: 0.8868\n",
      "Best params: {'var_smoothing': 7.453943540948982e-11}\n",
      "\n"
     ]
    },
    {
     "name": "stderr",
     "output_type": "stream",
     "text": [
      "C:\\Users\\Adam\\Anaconda3\\lib\\site-packages\\skopt\\optimizer\\optimizer.py:399: UserWarning: The objective has been evaluated at this point before.\n",
      "  warnings.warn(\"The objective has been evaluated \"\n"
     ]
    },
    {
     "name": "stdout",
     "output_type": "stream",
     "text": [
      "Model #88\n",
      " Best roc_auc: 0.8868\n",
      "Best params: {'var_smoothing': 7.453943540948982e-11}\n",
      "\n"
     ]
    },
    {
     "name": "stderr",
     "output_type": "stream",
     "text": [
      "C:\\Users\\Adam\\Anaconda3\\lib\\site-packages\\skopt\\optimizer\\optimizer.py:399: UserWarning: The objective has been evaluated at this point before.\n",
      "  warnings.warn(\"The objective has been evaluated \"\n"
     ]
    },
    {
     "name": "stdout",
     "output_type": "stream",
     "text": [
      "Model #89\n",
      " Best roc_auc: 0.8868\n",
      "Best params: {'var_smoothing': 7.453943540948982e-11}\n",
      "\n"
     ]
    },
    {
     "name": "stderr",
     "output_type": "stream",
     "text": [
      "C:\\Users\\Adam\\Anaconda3\\lib\\site-packages\\skopt\\optimizer\\optimizer.py:399: UserWarning: The objective has been evaluated at this point before.\n",
      "  warnings.warn(\"The objective has been evaluated \"\n"
     ]
    },
    {
     "name": "stdout",
     "output_type": "stream",
     "text": [
      "Model #90\n",
      " Best roc_auc: 0.8868\n",
      "Best params: {'var_smoothing': 7.453943540948982e-11}\n",
      "\n"
     ]
    },
    {
     "name": "stderr",
     "output_type": "stream",
     "text": [
      "C:\\Users\\Adam\\Anaconda3\\lib\\site-packages\\skopt\\optimizer\\optimizer.py:399: UserWarning: The objective has been evaluated at this point before.\n",
      "  warnings.warn(\"The objective has been evaluated \"\n"
     ]
    },
    {
     "name": "stdout",
     "output_type": "stream",
     "text": [
      "Model #91\n",
      " Best roc_auc: 0.8868\n",
      "Best params: {'var_smoothing': 7.453943540948982e-11}\n",
      "\n"
     ]
    },
    {
     "name": "stderr",
     "output_type": "stream",
     "text": [
      "C:\\Users\\Adam\\Anaconda3\\lib\\site-packages\\skopt\\optimizer\\optimizer.py:399: UserWarning: The objective has been evaluated at this point before.\n",
      "  warnings.warn(\"The objective has been evaluated \"\n"
     ]
    },
    {
     "name": "stdout",
     "output_type": "stream",
     "text": [
      "Model #92\n",
      " Best roc_auc: 0.8868\n",
      "Best params: {'var_smoothing': 7.453943540948982e-11}\n",
      "\n"
     ]
    },
    {
     "name": "stderr",
     "output_type": "stream",
     "text": [
      "C:\\Users\\Adam\\Anaconda3\\lib\\site-packages\\skopt\\optimizer\\optimizer.py:399: UserWarning: The objective has been evaluated at this point before.\n",
      "  warnings.warn(\"The objective has been evaluated \"\n"
     ]
    },
    {
     "name": "stdout",
     "output_type": "stream",
     "text": [
      "Model #93\n",
      " Best roc_auc: 0.8868\n",
      "Best params: {'var_smoothing': 7.453943540948982e-11}\n",
      "\n"
     ]
    },
    {
     "name": "stderr",
     "output_type": "stream",
     "text": [
      "C:\\Users\\Adam\\Anaconda3\\lib\\site-packages\\skopt\\optimizer\\optimizer.py:399: UserWarning: The objective has been evaluated at this point before.\n",
      "  warnings.warn(\"The objective has been evaluated \"\n"
     ]
    },
    {
     "name": "stdout",
     "output_type": "stream",
     "text": [
      "Model #94\n",
      " Best roc_auc: 0.8868\n",
      "Best params: {'var_smoothing': 7.453943540948982e-11}\n",
      "\n"
     ]
    },
    {
     "name": "stderr",
     "output_type": "stream",
     "text": [
      "C:\\Users\\Adam\\Anaconda3\\lib\\site-packages\\skopt\\optimizer\\optimizer.py:399: UserWarning: The objective has been evaluated at this point before.\n",
      "  warnings.warn(\"The objective has been evaluated \"\n"
     ]
    },
    {
     "name": "stdout",
     "output_type": "stream",
     "text": [
      "Model #95\n",
      " Best roc_auc: 0.8868\n",
      "Best params: {'var_smoothing': 7.453943540948982e-11}\n",
      "\n"
     ]
    },
    {
     "name": "stderr",
     "output_type": "stream",
     "text": [
      "C:\\Users\\Adam\\Anaconda3\\lib\\site-packages\\skopt\\optimizer\\optimizer.py:399: UserWarning: The objective has been evaluated at this point before.\n",
      "  warnings.warn(\"The objective has been evaluated \"\n"
     ]
    },
    {
     "name": "stdout",
     "output_type": "stream",
     "text": [
      "Model #96\n",
      " Best roc_auc: 0.8868\n",
      "Best params: {'var_smoothing': 7.453943540948982e-11}\n",
      "\n"
     ]
    },
    {
     "name": "stderr",
     "output_type": "stream",
     "text": [
      "C:\\Users\\Adam\\Anaconda3\\lib\\site-packages\\skopt\\optimizer\\optimizer.py:399: UserWarning: The objective has been evaluated at this point before.\n",
      "  warnings.warn(\"The objective has been evaluated \"\n"
     ]
    },
    {
     "name": "stdout",
     "output_type": "stream",
     "text": [
      "Model #97\n",
      " Best roc_auc: 0.8868\n",
      "Best params: {'var_smoothing': 7.453943540948982e-11}\n",
      "\n"
     ]
    },
    {
     "name": "stderr",
     "output_type": "stream",
     "text": [
      "C:\\Users\\Adam\\Anaconda3\\lib\\site-packages\\skopt\\optimizer\\optimizer.py:399: UserWarning: The objective has been evaluated at this point before.\n",
      "  warnings.warn(\"The objective has been evaluated \"\n"
     ]
    },
    {
     "name": "stdout",
     "output_type": "stream",
     "text": [
      "Model #98\n",
      " Best roc_auc: 0.8868\n",
      "Best params: {'var_smoothing': 7.453943540948982e-11}\n",
      "\n"
     ]
    },
    {
     "name": "stderr",
     "output_type": "stream",
     "text": [
      "C:\\Users\\Adam\\Anaconda3\\lib\\site-packages\\skopt\\optimizer\\optimizer.py:399: UserWarning: The objective has been evaluated at this point before.\n",
      "  warnings.warn(\"The objective has been evaluated \"\n"
     ]
    },
    {
     "name": "stdout",
     "output_type": "stream",
     "text": [
      "Model #99\n",
      " Best roc_auc: 0.8868\n",
      "Best params: {'var_smoothing': 7.453943540948982e-11}\n",
      "\n"
     ]
    },
    {
     "name": "stderr",
     "output_type": "stream",
     "text": [
      "C:\\Users\\Adam\\Anaconda3\\lib\\site-packages\\skopt\\optimizer\\optimizer.py:399: UserWarning: The objective has been evaluated at this point before.\n",
      "  warnings.warn(\"The objective has been evaluated \"\n"
     ]
    },
    {
     "name": "stdout",
     "output_type": "stream",
     "text": [
      "Model #100\n",
      " Best roc_auc: 0.8868\n",
      "Best params: {'var_smoothing': 7.453943540948982e-11}\n",
      "\n",
      "GaussianNB(priors=None, var_smoothing=7.453943540948982e-11)\n"
     ]
    },
    {
     "name": "stderr",
     "output_type": "stream",
     "text": [
      "C:\\Users\\Adam\\Anaconda3\\lib\\site-packages\\matplotlib\\figure.py:445: UserWarning: Matplotlib is currently using module://ipykernel.pylab.backend_inline, which is a non-GUI backend, so cannot show the figure.\n",
      "  % get_backend())\n"
     ]
    },
    {
     "data": {
      "image/png": "[encoded data removed]",
      "text/plain": [
       "<Figure size 432x720 with 3 Axes>"
      ]
     },
     "metadata": {
      "needs_background": "light"
     },
     "output_type": "display_data"
    }
   ],
   "source": [
    "from sklearn.naive_bayes import GaussianNB\n",
    "\n",
    "clf = GaussianNB()\n",
    "search_params={\n",
    "    \"var_smoothing\": (1e-11, 1e-6, \"log-uniform\"),\n",
    "}\n",
    "\n",
    "cv_obj = cross_validate_model(\n",
    "    X_train,\n",
    "    y_train,\n",
    "    clf,\n",
    "    search_spaces=search_params,\n",
    "    scoring=\"roc_auc\",\n",
    "    n_iter=100,\n",
    "    n_folds=10,\n",
    ")\n",
    "\n",
    "# get the best estimator from cross validation\n",
    "model = cv_obj.best_estimator_\n",
    "model.fit(X_train, y_train)\n",
    "print(model)\n",
    "\n",
    "#    from sklearn.externals import joblib\n",
    "#    # Output a pickle file for the model\n",
    "#    joblib.dump(model, 'saved_model.pkl') \n",
    "#     \n",
    "#    # Load the pickle file\n",
    "#    clf_load = joblib.load('saved_model.pkl')\n",
    "\n",
    "\n",
    "# bench mark the model    \n",
    "stats_fig, report = benchmark_model_performance(model, X_test, y_test)\n",
    "stats_fig.savefig(os.path.join('preliminary-naivebayes-downsampled.png'), dpi=300, format='png')\n",
    "stats_fig.show()\n"
   ]
  },
  {
   "cell_type": "markdown",
   "metadata": {},
   "source": [
    "## Benchmark XGBoost"
   ]
  },
  {
   "cell_type": "code",
   "execution_count": null,
   "metadata": {},
   "outputs": [
    {
     "name": "stdout",
     "output_type": "stream",
     "text": [
      "Model #1\n",
      " Best roc_auc: 0.8695\n",
      "Best params: {'colsample_bylevel': 0.18273244758535206, 'colsample_bytree': 0.7530295101748936, 'gamma': 0.2941753333970994, 'max_delta_step': 19, 'max_depth': 7, 'min_child_weight': 2, 'reg_alpha': 0.1186916389388348, 'reg_lambda': 0.03835472993899774, 'scale_pos_weight': 0.23326565231989196, 'subsample': 0.6601228271348841}\n",
      "\n",
      "Model #2\n",
      " Best roc_auc: 0.8695\n",
      "Best params: {'colsample_bylevel': 0.18273244758535206, 'colsample_bytree': 0.7530295101748936, 'gamma': 0.2941753333970994, 'max_delta_step': 19, 'max_depth': 7, 'min_child_weight': 2, 'reg_alpha': 0.1186916389388348, 'reg_lambda': 0.03835472993899774, 'scale_pos_weight': 0.23326565231989196, 'subsample': 0.6601228271348841}\n",
      "\n",
      "Model #3\n",
      " Best roc_auc: 0.8695\n",
      "Best params: {'colsample_bylevel': 0.18273244758535206, 'colsample_bytree': 0.7530295101748936, 'gamma': 0.2941753333970994, 'max_delta_step': 19, 'max_depth': 7, 'min_child_weight': 2, 'reg_alpha': 0.1186916389388348, 'reg_lambda': 0.03835472993899774, 'scale_pos_weight': 0.23326565231989196, 'subsample': 0.6601228271348841}\n",
      "\n"
     ]
    }
   ],
   "source": [
    "import xgboost as xgb\n",
    "\n",
    "clf = xgb.XGBClassifier(\n",
    "        objective=\"binary:logistic\",\n",
    "        eval_metric=\"auc\",\n",
    "        learning_rate=0.1,\n",
    "        silent=1,\n",
    "        early_stopping=200,\n",
    "        n_estimators=500,\n",
    "        tree_method=\"approx\",\n",
    "    )\n",
    "\n",
    "search_params={\n",
    "    \"min_child_weight\": (15, 20),\n",
    "    \"max_depth\": (6, 8),\n",
    "    \"max_delta_step\": (0, 20),\n",
    "    \"subsample\": (0.01, 1.0, \"uniform\"),\n",
    "    \"colsample_bytree\": (0.01, 1.0, \"uniform\"),\n",
    "    \"colsample_bylevel\": (0.01, 1.0, \"uniform\"),\n",
    "    \"reg_lambda\": (1e-2, 1000, \"log-uniform\"),\n",
    "    \"reg_alpha\": (1e-2, 1.0, \"log-uniform\"),\n",
    "    \"gamma\": (1e-2, 0.5, \"log-uniform\"),\n",
    "    \"min_child_weight\": (0, 20),\n",
    "    \"scale_pos_weight\": (1e-6, 500, \"log-uniform\"),\n",
    "}\n",
    "\n",
    "cv_obj = cross_validate_model(\n",
    "    X_trainsmall,\n",
    "    y_trainsmall,\n",
    "    clf,\n",
    "    search_spaces=search_params,\n",
    "    scoring=\"roc_auc\",\n",
    "    n_iter=50,\n",
    "    n_folds=10,\n",
    ")\n",
    "\n",
    "# get the best estimator from cross validation\n",
    "model = cv_obj.best_estimator_\n",
    "model.fit(X_train, y_train)\n",
    "print(model)\n",
    "\n",
    "#    from sklearn.externals import joblib\n",
    "#    # Output a pickle file for the model\n",
    "#    joblib.dump(model, 'saved_model.pkl') \n",
    "#     \n",
    "#    # Load the pickle file\n",
    "#    clf_load = joblib.load('saved_model.pkl')\n",
    "\n",
    "\n",
    "# bench mark the model    \n",
    "stats_fig, report = benchmark_model_performance(model, X_test, y_test)\n",
    "stats_fig.savefig(os.path.join('preliminary-xgboost-downsampled.png'), dpi=300, format='png')\n",
    "stats_fig.show()\n"
   ]
  },
  {
   "cell_type": "markdown",
   "metadata": {},
   "source": [
    "## Benchmark LightGBM"
   ]
  },
  {
   "cell_type": "code",
   "execution_count": null,
   "metadata": {},
   "outputs": [],
   "source": [
    "import lightgbm as lgb\n",
    "\n",
    "clf = estimator = lgb.LGBMRegressor(\n",
    "        objective='binary',\n",
    "        metric='auc',\n",
    "        tree_method='approx',\n",
    "        learning_rate = 0.1,\n",
    "        silent=1,\n",
    "        n_estimators= 7000,\n",
    "        verbose=0\n",
    "    )\n",
    "\n",
    "search_params = {\n",
    "    'max_delta_step': (0, 20),\n",
    "    'max_depth': (3, 15),\n",
    "    'max_delta_step': (0, 20),\n",
    "    'min_child_samples': (0, 50),\n",
    "    'max_bin': (100, 1000),\n",
    "    'subsample': (0.01, 1.0, 'uniform'),\n",
    "    'subsample_freq': (0, 10),\n",
    "    'colsample_bytree': (0.01, 1.0, 'uniform'),\n",
    "    'colsample_bylevel': (0.01, 1.0, 'uniform'),\n",
    "    'min_child_weight': (10, 20),\n",
    "    'gamma': (1e-2, 0.5, 'log-uniform'),\n",
    "    'subsample_for_bin': (100000, 500000),\n",
    "    'reg_lambda': (1e-4, 1000, 'log-uniform'),\n",
    "    'reg_alpha': (1e-4, 1.0, 'log-uniform'),\n",
    "    'scale_pos_weight': (1e-6, 500, 'log-uniform'),\n",
    "} \n",
    "\n",
    "cv_obj = cross_validate_model(\n",
    "    X_train,\n",
    "    y_train,\n",
    "    clf,\n",
    "    search_spaces=search_params,\n",
    "    scoring=\"roc_auc\",\n",
    "    n_iter=50,\n",
    "    n_folds=10,\n",
    ")\n",
    "\n",
    "# get the best estimator from cross validation\n",
    "model = cv_obj.best_estimator_\n",
    "model.fit(X_train, y_train)\n",
    "print(model)\n",
    "\n",
    "#    from sklearn.externals import joblib\n",
    "#    # Output a pickle file for the model\n",
    "#    joblib.dump(model, 'saved_model.pkl') \n",
    "#     \n",
    "#    # Load the pickle file\n",
    "#    clf_load = joblib.load('saved_model.pkl')\n",
    "\n",
    "\n",
    "# bench mark the model    \n",
    "stats_fig, report = benchmark_model_performance(model, X_test, y_test)\n",
    "stats_fig.savefig(os.path.join('preliminary-xgboost-downsampled.png'), dpi=300, format='png')\n",
    "stats_fig.show()\n"
   ]
  }
 ],
 "metadata": {
  "kernelspec": {
   "display_name": "Python 3",
   "language": "python",
   "name": "python3"
  },
  "language_info": {
   "codemirror_mode": {
    "name": "ipython",
    "version": 3
   },
   "file_extension": ".py",
   "mimetype": "text/x-python",
   "name": "python",
   "nbconvert_exporter": "python",
   "pygments_lexer": "ipython3",
   "version": "3.7.2"
  }
 },
 "nbformat": 4,
 "nbformat_minor": 2
}
